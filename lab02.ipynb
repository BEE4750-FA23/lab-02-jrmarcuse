{
  "cells": [
    {
      "cell_type": "markdown",
      "id": "eadb0540-a941-4a97-8c6a-c21e879b7bab",
      "metadata": {},
      "source": [
        "# BEE 4750 Lab 2: Uncertainty and Monte Carlo"
      ]
    },
    {
      "cell_type": "markdown",
      "id": "fb195d61-6546-4aea-91a6-eea0a6c5ce28",
      "metadata": {},
      "source": [
        "**Name**: Jonathan Marcuse\n",
        "\n",
        "**ID**: jrm564"
      ]
    },
    {
      "cell_type": "markdown",
      "id": "f8759e71-6399-4d6f-b2ae-d8e05d79a4b5",
      "metadata": {},
      "source": [
        "> **Due Date**\n",
        ">\n",
        "> Friday, 9/22/23, 9:00pm\n",
        "\n",
        "## Setup\n",
        "\n",
        "The following code should go at the top of most Julia scripts; it will\n",
        "load the local package environment and install any needed packages. You\n",
        "will see this often and shouldn’t need to touch it."
      ]
    },
    {
      "cell_type": "code",
      "execution_count": 3,
      "id": "ee4795ea",
      "metadata": {},
      "outputs": [
        {
          "name": "stderr",
          "output_type": "stream",
          "text": [
            "\u001b[32m\u001b[1m  Activating\u001b[22m\u001b[39m project at `~/Desktop/Cornell/Fall2023/BEE4750/lab-02-jrmarcuse`\n"
          ]
        }
      ],
      "source": [
        "import Pkg\n",
        "Pkg.activate(\".\")\n",
        "Pkg.instantiate()"
      ]
    },
    {
      "cell_type": "code",
      "execution_count": 4,
      "id": "bc1ca811",
      "metadata": {},
      "outputs": [],
      "source": [
        "using Random # random number generation\n",
        "using Distributions # probability distributions and interface\n",
        "using Statistics # basic statistical functions, including mean\n",
        "using Plots # plotting"
      ]
    },
    {
      "cell_type": "markdown",
      "id": "b8d1c920-78c4-43f7-ad4b-c6375a31d20e",
      "metadata": {},
      "source": [
        "## Introduction\n",
        "\n",
        "In this lab, you will use Monte Carlo analysis to estimate the expected\n",
        "winnings for a couple of different games of chance.\n",
        "\n",
        "Monte Carlo methods involve the simulation of random numbers from\n",
        "probability distributions. In an environmental context, we often\n",
        "propagate these random numbers through some more complicated model and\n",
        "then compute a resulting statistic which is relevant for assessing\n",
        "performance or risk, such as an average outcome or a particular\n",
        "quantile.\n",
        "\n",
        "Julia provides a common interface for probability distributions with the\n",
        "[`Distributions.jl`\n",
        "package](https://juliastats.org/Distributions.jl/stable/). The basic\n",
        "workflow for sampling from a distribution is:\n",
        "\n",
        "1.  Set up the distribution. The specific syntax depends on the\n",
        "    distribution and what parameters are required, but the general call\n",
        "    is the similar. For a normal distribution or a uniform distribution,\n",
        "    the syntax is\n",
        "\n",
        "    ``` julia\n",
        "    # you don't have to name this \"normal_distribution\"\n",
        "    # μ is the mean and σ is the standard deviation\n",
        "    normal_distribution = Normal(μ, σ)\n",
        "    # a is the upper bound and b is the lower bound; these can be set to +Inf or -Inf for an unbounded distribution in one or both directions.\n",
        "    uniform_distribution = Uniform(a, b)\n",
        "    ```\n",
        "\n",
        "    There are lots of both\n",
        "    [univariate](https://juliastats.org/Distributions.jl/stable/univariate/#Index)\n",
        "    and\n",
        "    [multivariate](https://juliastats.org/Distributions.jl/stable/multivariate/)\n",
        "    distributions, as well as the ability to create your own, but we\n",
        "    won’t do anything too exotic here.\n",
        "\n",
        "2.  Draw samples. This uses the `rand()` command (which, when used\n",
        "    without a distribution, just samples uniformly from the interval\n",
        "    $[0, 1]$.) For example, to sample from our normal distribution\n",
        "    above:\n",
        "\n",
        "    ``` julia\n",
        "    # draw n samples\n",
        "    rand(normal_distribution, n)\n",
        "    ```\n",
        "\n",
        "Putting this together, let’s say that we wanted to simulate 100\n",
        "six-sided dice rolls. We could use a [Discrete Uniform\n",
        "distribution](https://juliastats.org/Distributions.jl/stable/univariate/#Distributions.DiscreteUniform)."
      ]
    },
    {
      "cell_type": "code",
      "execution_count": 5,
      "id": "21a7694d",
      "metadata": {},
      "outputs": [
        {
          "data": {
            "text/plain": [
              "100-element Vector{Int64}:\n",
              " 3\n",
              " 3\n",
              " 3\n",
              " 3\n",
              " 2\n",
              " 2\n",
              " 6\n",
              " 1\n",
              " 6\n",
              " 1\n",
              " ⋮\n",
              " 4\n",
              " 6\n",
              " 3\n",
              " 1\n",
              " 1\n",
              " 6\n",
              " 5\n",
              " 5\n",
              " 4"
            ]
          },
          "metadata": {},
          "output_type": "display_data"
        }
      ],
      "source": [
        "dice_dist = DiscreteUniform(1, 6) # can generate any integer between 1 and 6\n",
        "dice_rolls = rand(dice_dist, 100) # simulate rolls"
      ]
    },
    {
      "cell_type": "markdown",
      "id": "ebe22457-c336-45ab-a0a0-451555fa0f0c",
      "metadata": {},
      "source": [
        "And then we can plot a histogram of these rolls:"
      ]
    },
    {
      "cell_type": "code",
      "execution_count": 6,
      "id": "d57de3c1",
      "metadata": {},
      "outputs": [
        {
          "data": {
            "image/png": "[encoded data removed]",
            "image/svg+xml": [
              "<?xml version=\"1.0\" encoding=\"utf-8\"?>\n",
              "<svg xmlns=\"http://www.w3.org/2000/svg\" xmlns:xlink=\"http://www.w3.org/1999/xlink\" width=\"600\" height=\"400\" viewBox=\"0 0 2400 1600\">\n",
              "<defs>\n",
              "  <clipPath id=\"clip620\">\n",
              "    <rect x=\"0\" y=\"0\" width=\"2400\" height=\"1600\"/>\n",
              "  </clipPath>\n",
              "</defs>\n",
              "<path clip-path=\"url(#clip620)\" d=\"M0 1600 L2400 1600 L2400 0 L0 0  Z\" fill=\"#ffffff\" fill-rule=\"evenodd\" fill-opacity=\"1\"/>\n",
              "<defs>\n",
              "  <clipPath id=\"clip621\">\n",
              "    <rect x=\"480\" y=\"0\" width=\"1681\" height=\"1600\"/>\n",
              "  </clipPath>\n",
              "</defs>\n",
              "<path clip-path=\"url(#clip620)\" d=\"M203.964 1423.18 L2352.76 1423.18 L2352.76 47.2441 L203.964 47.2441  Z\" fill=\"#ffffff\" fill-rule=\"evenodd\" fill-opacity=\"1\"/>\n",
              "<defs>\n",
              "  <clipPath id=\"clip622\">\n",
              "    <rect x=\"203\" y=\"47\" width=\"2150\" height=\"1377\"/>\n",
              "  </clipPath>\n",
              "</defs>\n",
              "<polyline clip-path=\"url(#clip622)\" style=\"stroke:#000000; stroke-linecap:round; stroke-linejoin:round; stroke-width:2; stroke-opacity:0.1; fill:none\" points=\"322.151,1423.18 322.151,47.2441 \"/>\n",
              "<polyline clip-path=\"url(#clip622)\" style=\"stroke:#000000; stroke-linecap:round; stroke-linejoin:round; stroke-width:2; stroke-opacity:0.1; fill:none\" points=\"640.887,1423.18 640.887,47.2441 \"/>\n",
              "<polyline clip-path=\"url(#clip622)\" style=\"stroke:#000000; stroke-linecap:round; stroke-linejoin:round; stroke-width:2; stroke-opacity:0.1; fill:none\" points=\"959.623,1423.18 959.623,47.2441 \"/>\n",
              "<polyline clip-path=\"url(#clip622)\" style=\"stroke:#000000; stroke-linecap:round; stroke-linejoin:round; stroke-width:2; stroke-opacity:0.1; fill:none\" points=\"1278.36,1423.18 1278.36,47.2441 \"/>\n",
              "<polyline clip-path=\"url(#clip622)\" style=\"stroke:#000000; stroke-linecap:round; stroke-linejoin:round; stroke-width:2; stroke-opacity:0.1; fill:none\" points=\"1597.1,1423.18 1597.1,47.2441 \"/>\n",
              "<polyline clip-path=\"url(#clip622)\" style=\"stroke:#000000; stroke-linecap:round; stroke-linejoin:round; stroke-width:2; stroke-opacity:0.1; fill:none\" points=\"1915.83,1423.18 1915.83,47.2441 \"/>\n",
              "<polyline clip-path=\"url(#clip622)\" style=\"stroke:#000000; stroke-linecap:round; stroke-linejoin:round; stroke-width:2; stroke-opacity:0.1; fill:none\" points=\"2234.57,1423.18 2234.57,47.2441 \"/>\n",
              "<polyline clip-path=\"url(#clip620)\" style=\"stroke:#000000; stroke-linecap:round; stroke-linejoin:round; stroke-width:4; stroke-opacity:1; fill:none\" points=\"203.964,1423.18 2352.76,1423.18 \"/>\n",
              "<polyline clip-path=\"url(#clip620)\" style=\"stroke:#000000; stroke-linecap:round; stroke-linejoin:round; stroke-width:4; stroke-opacity:1; fill:none\" points=\"322.151,1423.18 322.151,1404.28 \"/>\n",
              "<polyline clip-path=\"url(#clip620)\" style=\"stroke:#000000; stroke-linecap:round; stroke-linejoin:round; stroke-width:4; stroke-opacity:1; fill:none\" points=\"640.887,1423.18 640.887,1404.28 \"/>\n",
              "<polyline clip-path=\"url(#clip620)\" style=\"stroke:#000000; stroke-linecap:round; stroke-linejoin:round; stroke-width:4; stroke-opacity:1; fill:none\" points=\"959.623,1423.18 959.623,1404.28 \"/>\n",
              "<polyline clip-path=\"url(#clip620)\" style=\"stroke:#000000; stroke-linecap:round; stroke-linejoin:round; stroke-width:4; stroke-opacity:1; fill:none\" points=\"1278.36,1423.18 1278.36,1404.28 \"/>\n",
              "<polyline clip-path=\"url(#clip620)\" style=\"stroke:#000000; stroke-linecap:round; stroke-linejoin:round; stroke-width:4; stroke-opacity:1; fill:none\" points=\"1597.1,1423.18 1597.1,1404.28 \"/>\n",
              "<polyline clip-path=\"url(#clip620)\" style=\"stroke:#000000; stroke-linecap:round; stroke-linejoin:round; stroke-width:4; stroke-opacity:1; fill:none\" points=\"1915.83,1423.18 1915.83,1404.28 \"/>\n",
              "<polyline clip-path=\"url(#clip620)\" style=\"stroke:#000000; stroke-linecap:round; stroke-linejoin:round; stroke-width:4; stroke-opacity:1; fill:none\" points=\"2234.57,1423.18 2234.57,1404.28 \"/>\n",
              "<path clip-path=\"url(#clip620)\" d=\"M312.533 1481.64 L320.172 1481.64 L320.172 1455.28 L311.862 1456.95 L311.862 1452.69 L320.126 1451.02 L324.801 1451.02 L324.801 1481.64 L332.44 1481.64 L332.44 1485.58 L312.533 1485.58 L312.533 1481.64 Z\" fill=\"#000000\" fill-rule=\"nonzero\" fill-opacity=\"1\" /><path clip-path=\"url(#clip620)\" d=\"M635.54 1481.64 L651.859 1481.64 L651.859 1485.58 L629.915 1485.58 L629.915 1481.64 Q632.577 1478.89 637.16 1474.26 Q641.767 1469.61 642.947 1468.27 Q645.193 1465.74 646.072 1464.01 Q646.975 1462.25 646.975 1460.56 Q646.975 1457.8 645.031 1456.07 Q643.109 1454.33 640.008 1454.33 Q637.809 1454.33 635.355 1455.09 Q632.924 1455.86 630.147 1457.41 L630.147 1452.69 Q632.971 1451.55 635.424 1450.97 Q637.878 1450.39 639.915 1450.39 Q645.285 1450.39 648.48 1453.08 Q651.674 1455.77 651.674 1460.26 Q651.674 1462.39 650.864 1464.31 Q650.077 1466.2 647.971 1468.8 Q647.392 1469.47 644.29 1472.69 Q641.188 1475.88 635.54 1481.64 Z\" fill=\"#000000\" fill-rule=\"nonzero\" fill-opacity=\"1\" /><path clip-path=\"url(#clip620)\" d=\"M963.871 1466.95 Q967.228 1467.66 969.103 1469.93 Q971.001 1472.2 971.001 1475.53 Q971.001 1480.65 967.482 1483.45 Q963.964 1486.25 957.482 1486.25 Q955.306 1486.25 952.992 1485.81 Q950.7 1485.39 948.246 1484.54 L948.246 1480.02 Q950.191 1481.16 952.505 1481.74 Q954.82 1482.32 957.343 1482.32 Q961.742 1482.32 964.033 1480.58 Q966.348 1478.84 966.348 1475.53 Q966.348 1472.48 964.195 1470.77 Q962.066 1469.03 958.246 1469.03 L954.218 1469.03 L954.218 1465.19 L958.431 1465.19 Q961.88 1465.19 963.709 1463.82 Q965.538 1462.43 965.538 1459.84 Q965.538 1457.18 963.64 1455.77 Q961.765 1454.33 958.246 1454.33 Q956.325 1454.33 954.126 1454.75 Q951.927 1455.16 949.288 1456.04 L949.288 1451.88 Q951.95 1451.14 954.265 1450.77 Q956.603 1450.39 958.663 1450.39 Q963.987 1450.39 967.089 1452.83 Q970.191 1455.23 970.191 1459.35 Q970.191 1462.22 968.547 1464.21 Q966.904 1466.18 963.871 1466.95 Z\" fill=\"#000000\" fill-rule=\"nonzero\" fill-opacity=\"1\" /><path clip-path=\"url(#clip620)\" d=\"M1281.37 1455.09 L1269.56 1473.54 L1281.37 1473.54 L1281.37 1455.09 M1280.14 1451.02 L1286.02 1451.02 L1286.02 1473.54 L1290.95 1473.54 L1290.95 1477.43 L1286.02 1477.43 L1286.02 1485.58 L1281.37 1485.58 L1281.37 1477.43 L1265.77 1477.43 L1265.77 1472.92 L1280.14 1451.02 Z\" fill=\"#000000\" fill-rule=\"nonzero\" fill-opacity=\"1\" /><path clip-path=\"url(#clip620)\" d=\"M1587.37 1451.02 L1605.73 1451.02 L1605.73 1454.96 L1591.66 1454.96 L1591.66 1463.43 Q1592.67 1463.08 1593.69 1462.92 Q1594.71 1462.73 1595.73 1462.73 Q1601.52 1462.73 1604.9 1465.9 Q1608.28 1469.08 1608.28 1474.49 Q1608.28 1480.07 1604.8 1483.17 Q1601.33 1486.25 1595.01 1486.25 Q1592.84 1486.25 1590.57 1485.88 Q1588.32 1485.51 1585.92 1484.77 L1585.92 1480.07 Q1588 1481.2 1590.22 1481.76 Q1592.44 1482.32 1594.92 1482.32 Q1598.92 1482.32 1601.26 1480.21 Q1603.6 1478.1 1603.6 1474.49 Q1603.6 1470.88 1601.26 1468.77 Q1598.92 1466.67 1594.92 1466.67 Q1593.05 1466.67 1591.17 1467.08 Q1589.32 1467.5 1587.37 1468.38 L1587.37 1451.02 Z\" fill=\"#000000\" fill-rule=\"nonzero\" fill-opacity=\"1\" /><path clip-path=\"url(#clip620)\" d=\"M1916.24 1466.44 Q1913.09 1466.44 1911.24 1468.59 Q1909.41 1470.74 1909.41 1474.49 Q1909.41 1478.22 1911.24 1480.39 Q1913.09 1482.55 1916.24 1482.55 Q1919.39 1482.55 1921.21 1480.39 Q1923.07 1478.22 1923.07 1474.49 Q1923.07 1470.74 1921.21 1468.59 Q1919.39 1466.44 1916.24 1466.44 M1925.52 1451.78 L1925.52 1456.04 Q1923.76 1455.21 1921.95 1454.77 Q1920.17 1454.33 1918.41 1454.33 Q1913.78 1454.33 1911.33 1457.45 Q1908.9 1460.58 1908.55 1466.9 Q1909.92 1464.89 1911.98 1463.82 Q1914.04 1462.73 1916.52 1462.73 Q1921.72 1462.73 1924.73 1465.9 Q1927.77 1469.05 1927.77 1474.49 Q1927.77 1479.82 1924.62 1483.03 Q1921.47 1486.25 1916.24 1486.25 Q1910.24 1486.25 1907.07 1481.67 Q1903.9 1477.06 1903.9 1468.33 Q1903.9 1460.14 1907.79 1455.28 Q1911.68 1450.39 1918.23 1450.39 Q1919.99 1450.39 1921.77 1450.74 Q1923.58 1451.09 1925.52 1451.78 Z\" fill=\"#000000\" fill-rule=\"nonzero\" fill-opacity=\"1\" /><path clip-path=\"url(#clip620)\" d=\"M2223.46 1451.02 L2245.68 1451.02 L2245.68 1453.01 L2233.13 1485.58 L2228.25 1485.58 L2240.05 1454.96 L2223.46 1454.96 L2223.46 1451.02 Z\" fill=\"#000000\" fill-rule=\"nonzero\" fill-opacity=\"1\" /><path clip-path=\"url(#clip620)\" d=\"M1117.74 1525.81 L1117.74 1562.76 L1125.5 1562.76 Q1135.34 1562.76 1139.89 1558.3 Q1144.47 1553.85 1144.47 1544.24 Q1144.47 1534.69 1139.89 1530.26 Q1135.34 1525.81 1125.5 1525.81 L1117.74 1525.81 M1111.31 1520.52 L1124.52 1520.52 Q1138.33 1520.52 1144.79 1526.28 Q1151.25 1532.01 1151.25 1544.24 Q1151.25 1556.52 1144.76 1562.28 Q1138.27 1568.04 1124.52 1568.04 L1111.31 1568.04 L1111.31 1520.52 Z\" fill=\"#000000\" fill-rule=\"nonzero\" fill-opacity=\"1\" /><path clip-path=\"url(#clip620)\" d=\"M1161.25 1532.4 L1167.1 1532.4 L1167.1 1568.04 L1161.25 1568.04 L1161.25 1532.4 M1161.25 1518.52 L1167.1 1518.52 L1167.1 1525.93 L1161.25 1525.93 L1161.25 1518.52 Z\" fill=\"#000000\" fill-rule=\"nonzero\" fill-opacity=\"1\" /><path clip-path=\"url(#clip620)\" d=\"M1205.01 1533.76 L1205.01 1539.24 Q1202.53 1537.87 1200.01 1537.2 Q1197.53 1536.5 1194.98 1536.5 Q1189.29 1536.5 1186.14 1540.13 Q1182.99 1543.73 1182.99 1550.25 Q1182.99 1556.78 1186.14 1560.4 Q1189.29 1564 1194.98 1564 Q1197.53 1564 1200.01 1563.33 Q1202.53 1562.63 1205.01 1561.26 L1205.01 1566.68 Q1202.56 1567.82 1199.92 1568.39 Q1197.31 1568.97 1194.35 1568.97 Q1186.3 1568.97 1181.55 1563.91 Q1176.81 1558.85 1176.81 1550.25 Q1176.81 1541.53 1181.59 1536.53 Q1186.39 1531.54 1194.73 1531.54 Q1197.44 1531.54 1200.01 1532.11 Q1202.59 1532.65 1205.01 1533.76 Z\" fill=\"#000000\" fill-rule=\"nonzero\" fill-opacity=\"1\" /><path clip-path=\"url(#clip620)\" d=\"M1245.69 1548.76 L1245.69 1551.62 L1218.76 1551.62 Q1219.14 1557.67 1222.39 1560.85 Q1225.67 1564 1231.49 1564 Q1234.87 1564 1238.02 1563.17 Q1241.2 1562.35 1244.32 1560.69 L1244.32 1566.23 Q1241.17 1567.57 1237.86 1568.27 Q1234.55 1568.97 1231.14 1568.97 Q1222.61 1568.97 1217.61 1564 Q1212.65 1559.04 1212.65 1550.57 Q1212.65 1541.82 1217.36 1536.69 Q1222.1 1531.54 1230.12 1531.54 Q1237.32 1531.54 1241.49 1536.18 Q1245.69 1540.8 1245.69 1548.76 M1239.83 1547.04 Q1239.77 1542.23 1237.13 1539.37 Q1234.52 1536.5 1230.19 1536.5 Q1225.29 1536.5 1222.33 1539.27 Q1219.4 1542.04 1218.95 1547.07 L1239.83 1547.04 Z\" fill=\"#000000\" fill-rule=\"nonzero\" fill-opacity=\"1\" /><path clip-path=\"url(#clip620)\" d=\"M1288.53 1568.04 L1270.39 1520.52 L1277.1 1520.52 L1292.16 1560.53 L1307.24 1520.52 L1313.93 1520.52 L1295.82 1568.04 L1288.53 1568.04 Z\" fill=\"#000000\" fill-rule=\"nonzero\" fill-opacity=\"1\" /><path clip-path=\"url(#clip620)\" d=\"M1331.75 1550.12 Q1324.65 1550.12 1321.92 1551.75 Q1319.18 1553.37 1319.18 1557.29 Q1319.18 1560.4 1321.22 1562.25 Q1323.29 1564.07 1326.82 1564.07 Q1331.69 1564.07 1334.62 1560.63 Q1337.58 1557.16 1337.58 1551.43 L1337.58 1550.12 L1331.75 1550.12 M1343.43 1547.71 L1343.43 1568.04 L1337.58 1568.04 L1337.58 1562.63 Q1335.57 1565.88 1332.58 1567.44 Q1329.59 1568.97 1325.26 1568.97 Q1319.78 1568.97 1316.54 1565.91 Q1313.32 1562.82 1313.32 1557.67 Q1313.32 1551.65 1317.33 1548.6 Q1321.38 1545.54 1329.36 1545.54 L1337.58 1545.54 L1337.58 1544.97 Q1337.58 1540.93 1334.9 1538.73 Q1332.26 1536.5 1327.46 1536.5 Q1324.4 1536.5 1321.5 1537.23 Q1318.61 1537.97 1315.93 1539.43 L1315.93 1534.02 Q1319.15 1532.78 1322.17 1532.17 Q1325.2 1531.54 1328.06 1531.54 Q1335.79 1531.54 1339.61 1535.55 Q1343.43 1539.56 1343.43 1547.71 Z\" fill=\"#000000\" fill-rule=\"nonzero\" fill-opacity=\"1\" /><path clip-path=\"url(#clip620)\" d=\"M1355.5 1518.52 L1361.35 1518.52 L1361.35 1568.04 L1355.5 1568.04 L1355.5 1518.52 Z\" fill=\"#000000\" fill-rule=\"nonzero\" fill-opacity=\"1\" /><path clip-path=\"url(#clip620)\" d=\"M1373 1553.98 L1373 1532.4 L1378.86 1532.4 L1378.86 1553.75 Q1378.86 1558.81 1380.83 1561.36 Q1382.81 1563.87 1386.75 1563.87 Q1391.49 1563.87 1394.23 1560.85 Q1397 1557.83 1397 1552.61 L1397 1532.4 L1402.86 1532.4 L1402.86 1568.04 L1397 1568.04 L1397 1562.57 Q1394.87 1565.82 1392.04 1567.41 Q1389.23 1568.97 1385.51 1568.97 Q1379.37 1568.97 1376.18 1565.15 Q1373 1561.33 1373 1553.98 M1387.74 1531.54 L1387.74 1531.54 Z\" fill=\"#000000\" fill-rule=\"nonzero\" fill-opacity=\"1\" /><path clip-path=\"url(#clip620)\" d=\"M1445.41 1548.76 L1445.41 1551.62 L1418.48 1551.62 Q1418.87 1557.67 1422.11 1560.85 Q1425.39 1564 1431.22 1564 Q1434.59 1564 1437.74 1563.17 Q1440.92 1562.35 1444.04 1560.69 L1444.04 1566.23 Q1440.89 1567.57 1437.58 1568.27 Q1434.27 1568.97 1430.87 1568.97 Q1422.34 1568.97 1417.34 1564 Q1412.37 1559.04 1412.37 1550.57 Q1412.37 1541.82 1417.08 1536.69 Q1421.83 1531.54 1429.85 1531.54 Q1437.04 1531.54 1441.21 1536.18 Q1445.41 1540.8 1445.41 1548.76 M1439.56 1547.04 Q1439.49 1542.23 1436.85 1539.37 Q1434.24 1536.5 1429.91 1536.5 Q1425.01 1536.5 1422.05 1539.27 Q1419.12 1542.04 1418.68 1547.07 L1439.56 1547.04 Z\" fill=\"#000000\" fill-rule=\"nonzero\" fill-opacity=\"1\" /><polyline clip-path=\"url(#clip622)\" style=\"stroke:#000000; stroke-linecap:round; stroke-linejoin:round; stroke-width:2; stroke-opacity:0.1; fill:none\" points=\"203.964,1423.18 2352.76,1423.18 \"/>\n",
              "<polyline clip-path=\"url(#clip622)\" style=\"stroke:#000000; stroke-linecap:round; stroke-linejoin:round; stroke-width:2; stroke-opacity:0.1; fill:none\" points=\"203.964,1136.53 2352.76,1136.53 \"/>\n",
              "<polyline clip-path=\"url(#clip622)\" style=\"stroke:#000000; stroke-linecap:round; stroke-linejoin:round; stroke-width:2; stroke-opacity:0.1; fill:none\" points=\"203.964,849.873 2352.76,849.873 \"/>\n",
              "<polyline clip-path=\"url(#clip622)\" style=\"stroke:#000000; stroke-linecap:round; stroke-linejoin:round; stroke-width:2; stroke-opacity:0.1; fill:none\" points=\"203.964,563.22 2352.76,563.22 \"/>\n",
              "<polyline clip-path=\"url(#clip622)\" style=\"stroke:#000000; stroke-linecap:round; stroke-linejoin:round; stroke-width:2; stroke-opacity:0.1; fill:none\" points=\"203.964,276.567 2352.76,276.567 \"/>\n",
              "<polyline clip-path=\"url(#clip620)\" style=\"stroke:#000000; stroke-linecap:round; stroke-linejoin:round; stroke-width:4; stroke-opacity:1; fill:none\" points=\"203.964,1423.18 203.964,47.2441 \"/>\n",
              "<polyline clip-path=\"url(#clip620)\" style=\"stroke:#000000; stroke-linecap:round; stroke-linejoin:round; stroke-width:4; stroke-opacity:1; fill:none\" points=\"203.964,1423.18 222.861,1423.18 \"/>\n",
              "<polyline clip-path=\"url(#clip620)\" style=\"stroke:#000000; stroke-linecap:round; stroke-linejoin:round; stroke-width:4; stroke-opacity:1; fill:none\" points=\"203.964,1136.53 222.861,1136.53 \"/>\n",
              "<polyline clip-path=\"url(#clip620)\" style=\"stroke:#000000; stroke-linecap:round; stroke-linejoin:round; stroke-width:4; stroke-opacity:1; fill:none\" points=\"203.964,849.873 222.861,849.873 \"/>\n",
              "<polyline clip-path=\"url(#clip620)\" style=\"stroke:#000000; stroke-linecap:round; stroke-linejoin:round; stroke-width:4; stroke-opacity:1; fill:none\" points=\"203.964,563.22 222.861,563.22 \"/>\n",
              "<polyline clip-path=\"url(#clip620)\" style=\"stroke:#000000; stroke-linecap:round; stroke-linejoin:round; stroke-width:4; stroke-opacity:1; fill:none\" points=\"203.964,276.567 222.861,276.567 \"/>\n",
              "<path clip-path=\"url(#clip620)\" d=\"M156.019 1408.98 Q152.408 1408.98 150.579 1412.54 Q148.774 1416.08 148.774 1423.21 Q148.774 1430.32 150.579 1433.89 Q152.408 1437.43 156.019 1437.43 Q159.653 1437.43 161.459 1433.89 Q163.288 1430.32 163.288 1423.21 Q163.288 1416.08 161.459 1412.54 Q159.653 1408.98 156.019 1408.98 M156.019 1405.27 Q161.829 1405.27 164.885 1409.88 Q167.964 1414.46 167.964 1423.21 Q167.964 1431.94 164.885 1436.55 Q161.829 1441.13 156.019 1441.13 Q150.209 1441.13 147.13 1436.55 Q144.075 1431.94 144.075 1423.21 Q144.075 1414.46 147.13 1409.88 Q150.209 1405.27 156.019 1405.27 Z\" fill=\"#000000\" fill-rule=\"nonzero\" fill-opacity=\"1\" /><path clip-path=\"url(#clip620)\" d=\"M147.061 1119.25 L165.417 1119.25 L165.417 1123.18 L151.343 1123.18 L151.343 1131.65 Q152.362 1131.31 153.38 1131.14 Q154.399 1130.96 155.417 1130.96 Q161.204 1130.96 164.584 1134.13 Q167.964 1137.3 167.964 1142.72 Q167.964 1148.3 164.491 1151.4 Q161.019 1154.48 154.7 1154.48 Q152.524 1154.48 150.255 1154.11 Q148.01 1153.74 145.603 1153 L145.603 1148.3 Q147.686 1149.43 149.908 1149.99 Q152.13 1150.54 154.607 1150.54 Q158.612 1150.54 160.95 1148.44 Q163.288 1146.33 163.288 1142.72 Q163.288 1139.11 160.95 1137 Q158.612 1134.89 154.607 1134.89 Q152.732 1134.89 150.857 1135.31 Q149.005 1135.73 147.061 1136.61 L147.061 1119.25 Z\" fill=\"#000000\" fill-rule=\"nonzero\" fill-opacity=\"1\" /><path clip-path=\"url(#clip620)\" d=\"M116.668 863.218 L124.306 863.218 L124.306 836.853 L115.996 838.519 L115.996 834.26 L124.26 832.593 L128.936 832.593 L128.936 863.218 L136.575 863.218 L136.575 867.153 L116.668 867.153 L116.668 863.218 Z\" fill=\"#000000\" fill-rule=\"nonzero\" fill-opacity=\"1\" /><path clip-path=\"url(#clip620)\" d=\"M156.019 835.672 Q152.408 835.672 150.579 839.237 Q148.774 842.778 148.774 849.908 Q148.774 857.014 150.579 860.579 Q152.408 864.121 156.019 864.121 Q159.653 864.121 161.459 860.579 Q163.288 857.014 163.288 849.908 Q163.288 842.778 161.459 839.237 Q159.653 835.672 156.019 835.672 M156.019 831.968 Q161.829 831.968 164.885 836.575 Q167.964 841.158 167.964 849.908 Q167.964 858.635 164.885 863.241 Q161.829 867.825 156.019 867.825 Q150.209 867.825 147.13 863.241 Q144.075 858.635 144.075 849.908 Q144.075 841.158 147.13 836.575 Q150.209 831.968 156.019 831.968 Z\" fill=\"#000000\" fill-rule=\"nonzero\" fill-opacity=\"1\" /><path clip-path=\"url(#clip620)\" d=\"M117.663 576.565 L125.302 576.565 L125.302 550.199 L116.992 551.866 L116.992 547.607 L125.255 545.94 L129.931 545.94 L129.931 576.565 L137.57 576.565 L137.57 580.5 L117.663 580.5 L117.663 576.565 Z\" fill=\"#000000\" fill-rule=\"nonzero\" fill-opacity=\"1\" /><path clip-path=\"url(#clip620)\" d=\"M147.061 545.94 L165.417 545.94 L165.417 549.875 L151.343 549.875 L151.343 558.347 Q152.362 558 153.38 557.838 Q154.399 557.653 155.417 557.653 Q161.204 557.653 164.584 560.824 Q167.964 563.995 167.964 569.412 Q167.964 574.991 164.491 578.093 Q161.019 581.171 154.7 581.171 Q152.524 581.171 150.255 580.801 Q148.01 580.431 145.603 579.69 L145.603 574.991 Q147.686 576.125 149.908 576.681 Q152.13 577.236 154.607 577.236 Q158.612 577.236 160.95 575.13 Q163.288 573.023 163.288 569.412 Q163.288 565.801 160.95 563.695 Q158.612 561.588 154.607 561.588 Q152.732 561.588 150.857 562.005 Q149.005 562.421 147.061 563.301 L147.061 545.94 Z\" fill=\"#000000\" fill-rule=\"nonzero\" fill-opacity=\"1\" /><path clip-path=\"url(#clip620)\" d=\"M119.885 289.912 L136.204 289.912 L136.204 293.847 L114.26 293.847 L114.26 289.912 Q116.922 287.157 121.505 282.527 Q126.112 277.875 127.292 276.532 Q129.538 274.009 130.417 272.273 Q131.32 270.514 131.32 268.824 Q131.32 266.069 129.376 264.333 Q127.455 262.597 124.353 262.597 Q122.154 262.597 119.7 263.361 Q117.269 264.125 114.492 265.676 L114.492 260.953 Q117.316 259.819 119.769 259.24 Q122.223 258.662 124.26 258.662 Q129.63 258.662 132.825 261.347 Q136.019 264.032 136.019 268.523 Q136.019 270.652 135.209 272.574 Q134.422 274.472 132.316 277.064 Q131.737 277.736 128.635 280.953 Q125.533 284.148 119.885 289.912 Z\" fill=\"#000000\" fill-rule=\"nonzero\" fill-opacity=\"1\" /><path clip-path=\"url(#clip620)\" d=\"M156.019 262.365 Q152.408 262.365 150.579 265.93 Q148.774 269.472 148.774 276.601 Q148.774 283.708 150.579 287.273 Q152.408 290.814 156.019 290.814 Q159.653 290.814 161.459 287.273 Q163.288 283.708 163.288 276.601 Q163.288 269.472 161.459 265.93 Q159.653 262.365 156.019 262.365 M156.019 258.662 Q161.829 258.662 164.885 263.268 Q167.964 267.851 167.964 276.601 Q167.964 285.328 164.885 289.935 Q161.829 294.518 156.019 294.518 Q150.209 294.518 147.13 289.935 Q144.075 285.328 144.075 276.601 Q144.075 267.851 147.13 263.268 Q150.209 258.662 156.019 258.662 Z\" fill=\"#000000\" fill-rule=\"nonzero\" fill-opacity=\"1\" /><path clip-path=\"url(#clip620)\" d=\"M20.1444 791.071 L26.9239 791.071 Q23.9002 794.318 22.4043 798.01 Q20.9083 801.67 20.9083 805.808 Q20.9083 813.956 25.9054 818.284 Q30.8707 822.613 40.2919 822.613 Q49.6813 822.613 54.6784 818.284 Q59.6436 813.956 59.6436 805.808 Q59.6436 801.67 58.1477 798.01 Q56.6518 794.318 53.6281 791.071 L60.3439 791.071 Q62.6355 794.445 63.7814 798.232 Q64.9272 801.988 64.9272 806.19 Q64.9272 816.979 58.3387 823.186 Q51.7183 829.393 40.2919 829.393 Q28.8336 829.393 22.2451 823.186 Q15.6248 816.979 15.6248 806.19 Q15.6248 801.925 16.7706 798.169 Q17.8846 794.381 20.1444 791.071 Z\" fill=\"#000000\" fill-rule=\"nonzero\" fill-opacity=\"1\" /><path clip-path=\"url(#clip620)\" d=\"M32.4621 767.582 Q32.4621 772.292 36.1542 775.029 Q39.8145 777.767 46.212 777.767 Q52.6095 777.767 56.3017 775.061 Q59.9619 772.324 59.9619 767.582 Q59.9619 762.903 56.2698 760.166 Q52.5777 757.428 46.212 757.428 Q39.8781 757.428 36.186 760.166 Q32.4621 762.903 32.4621 767.582 M27.4968 767.582 Q27.4968 759.943 32.4621 755.582 Q37.4273 751.222 46.212 751.222 Q54.9649 751.222 59.9619 755.582 Q64.9272 759.943 64.9272 767.582 Q64.9272 775.252 59.9619 779.613 Q54.9649 783.941 46.212 783.941 Q37.4273 783.941 32.4621 779.613 Q27.4968 775.252 27.4968 767.582 Z\" fill=\"#000000\" fill-rule=\"nonzero\" fill-opacity=\"1\" /><path clip-path=\"url(#clip620)\" d=\"M49.9359 742.119 L28.3562 742.119 L28.3562 736.262 L49.7131 736.262 Q54.7739 736.262 57.3202 734.289 Q59.8346 732.316 59.8346 728.369 Q59.8346 723.626 56.8109 720.889 Q53.7872 718.12 48.5673 718.12 L28.3562 718.12 L28.3562 712.264 L64.0042 712.264 L64.0042 718.12 L58.5296 718.12 Q61.7762 720.253 63.3676 723.085 Q64.9272 725.886 64.9272 729.61 Q64.9272 735.753 61.1078 738.936 Q57.2883 742.119 49.9359 742.119 M27.4968 727.382 L27.4968 727.382 Z\" fill=\"#000000\" fill-rule=\"nonzero\" fill-opacity=\"1\" /><path clip-path=\"url(#clip620)\" d=\"M42.4881 670.568 L64.0042 670.568 L64.0042 676.425 L42.679 676.425 Q37.6183 676.425 35.1038 678.398 Q32.5894 680.371 32.5894 684.318 Q32.5894 689.061 35.6131 691.798 Q38.6368 694.535 43.8567 694.535 L64.0042 694.535 L64.0042 700.423 L28.3562 700.423 L28.3562 694.535 L33.8944 694.535 Q30.6797 692.434 29.0883 689.602 Q27.4968 686.737 27.4968 683.013 Q27.4968 676.87 31.3163 673.719 Q35.1038 670.568 42.4881 670.568 Z\" fill=\"#000000\" fill-rule=\"nonzero\" fill-opacity=\"1\" /><path clip-path=\"url(#clip620)\" d=\"M18.2347 653.094 L28.3562 653.094 L28.3562 641.031 L32.9077 641.031 L32.9077 653.094 L52.2594 653.094 Q56.6199 653.094 57.8613 651.917 Q59.1026 650.707 59.1026 647.047 L59.1026 641.031 L64.0042 641.031 L64.0042 647.047 Q64.0042 653.826 61.4897 656.405 Q58.9434 658.983 52.2594 658.983 L32.9077 658.983 L32.9077 663.279 L28.3562 663.279 L28.3562 658.983 L18.2347 658.983 L18.2347 653.094 Z\" fill=\"#000000\" fill-rule=\"nonzero\" fill-opacity=\"1\" /><path clip-path=\"url(#clip622)\" d=\"M322.151 47.2441 L322.151 1423.18 L640.887 1423.18 L640.887 47.2441 L322.151 47.2441 L322.151 47.2441  Z\" fill=\"#009af9\" fill-rule=\"evenodd\" fill-opacity=\"1\"/>\n",
              "<polyline clip-path=\"url(#clip622)\" style=\"stroke:#000000; stroke-linecap:round; stroke-linejoin:round; stroke-width:4; stroke-opacity:1; fill:none\" points=\"322.151,47.2441 322.151,1423.18 640.887,1423.18 640.887,47.2441 322.151,47.2441 \"/>\n",
              "<path clip-path=\"url(#clip622)\" d=\"M640.887 448.559 L640.887 1423.18 L959.623 1423.18 L959.623 448.559 L640.887 448.559 L640.887 448.559  Z\" fill=\"#009af9\" fill-rule=\"evenodd\" fill-opacity=\"1\"/>\n",
              "<polyline clip-path=\"url(#clip622)\" style=\"stroke:#000000; stroke-linecap:round; stroke-linejoin:round; stroke-width:4; stroke-opacity:1; fill:none\" points=\"640.887,448.559 640.887,1423.18 959.623,1423.18 959.623,448.559 640.887,448.559 \"/>\n",
              "<path clip-path=\"url(#clip622)\" d=\"M959.623 735.212 L959.623 1423.18 L1278.36 1423.18 L1278.36 735.212 L959.623 735.212 L959.623 735.212  Z\" fill=\"#009af9\" fill-rule=\"evenodd\" fill-opacity=\"1\"/>\n",
              "<polyline clip-path=\"url(#clip622)\" style=\"stroke:#000000; stroke-linecap:round; stroke-linejoin:round; stroke-width:4; stroke-opacity:1; fill:none\" points=\"959.623,735.212 959.623,1423.18 1278.36,1423.18 1278.36,735.212 959.623,735.212 \"/>\n",
              "<path clip-path=\"url(#clip622)\" d=\"M1278.36 1021.87 L1278.36 1423.18 L1597.1 1423.18 L1597.1 1021.87 L1278.36 1021.87 L1278.36 1021.87  Z\" fill=\"#009af9\" fill-rule=\"evenodd\" fill-opacity=\"1\"/>\n",
              "<polyline clip-path=\"url(#clip622)\" style=\"stroke:#000000; stroke-linecap:round; stroke-linejoin:round; stroke-width:4; stroke-opacity:1; fill:none\" points=\"1278.36,1021.87 1278.36,1423.18 1597.1,1423.18 1597.1,1021.87 1278.36,1021.87 \"/>\n",
              "<path clip-path=\"url(#clip622)\" d=\"M1597.1 505.889 L1597.1 1423.18 L1915.83 1423.18 L1915.83 505.889 L1597.1 505.889 L1597.1 505.889  Z\" fill=\"#009af9\" fill-rule=\"evenodd\" fill-opacity=\"1\"/>\n",
              "<polyline clip-path=\"url(#clip622)\" style=\"stroke:#000000; stroke-linecap:round; stroke-linejoin:round; stroke-width:4; stroke-opacity:1; fill:none\" points=\"1597.1,505.889 1597.1,1423.18 1915.83,1423.18 1915.83,505.889 1597.1,505.889 \"/>\n",
              "<path clip-path=\"url(#clip622)\" d=\"M1915.83 47.2441 L1915.83 1423.18 L2234.57 1423.18 L2234.57 47.2441 L1915.83 47.2441 L1915.83 47.2441  Z\" fill=\"#009af9\" fill-rule=\"evenodd\" fill-opacity=\"1\"/>\n",
              "<polyline clip-path=\"url(#clip622)\" style=\"stroke:#000000; stroke-linecap:round; stroke-linejoin:round; stroke-width:4; stroke-opacity:1; fill:none\" points=\"1915.83,47.2441 1915.83,1423.18 2234.57,1423.18 2234.57,47.2441 1915.83,47.2441 \"/>\n",
              "<circle clip-path=\"url(#clip622)\" style=\"fill:#009af9; stroke:none; fill-opacity:0\" cx=\"481.519\" cy=\"47.2441\" r=\"2\"/>\n",
              "<circle clip-path=\"url(#clip622)\" style=\"fill:#009af9; stroke:none; fill-opacity:0\" cx=\"800.255\" cy=\"448.559\" r=\"2\"/>\n",
              "<circle clip-path=\"url(#clip622)\" style=\"fill:#009af9; stroke:none; fill-opacity:0\" cx=\"1118.99\" cy=\"735.212\" r=\"2\"/>\n",
              "<circle clip-path=\"url(#clip622)\" style=\"fill:#009af9; stroke:none; fill-opacity:0\" cx=\"1437.73\" cy=\"1021.87\" r=\"2\"/>\n",
              "<circle clip-path=\"url(#clip622)\" style=\"fill:#009af9; stroke:none; fill-opacity:0\" cx=\"1756.46\" cy=\"505.889\" r=\"2\"/>\n",
              "<circle clip-path=\"url(#clip622)\" style=\"fill:#009af9; stroke:none; fill-opacity:0\" cx=\"2075.2\" cy=\"47.2441\" r=\"2\"/>\n",
              "</svg>\n"
            ],
            "text/html": [
              "<?xml version=\"1.0\" encoding=\"utf-8\"?>\n",
              "<svg xmlns=\"http://www.w3.org/2000/svg\" xmlns:xlink=\"http://www.w3.org/1999/xlink\" width=\"600\" height=\"400\" viewBox=\"0 0 2400 1600\">\n",
              "<defs>\n",
              "  <clipPath id=\"clip670\">\n",
              "    <rect x=\"0\" y=\"0\" width=\"2400\" height=\"1600\"/>\n",
              "  </clipPath>\n",
              "</defs>\n",
              "<path clip-path=\"url(#clip670)\" d=\"M0 1600 L2400 1600 L2400 0 L0 0  Z\" fill=\"#ffffff\" fill-rule=\"evenodd\" fill-opacity=\"1\"/>\n",
              "<defs>\n",
              "  <clipPath id=\"clip671\">\n",
              "    <rect x=\"480\" y=\"0\" width=\"1681\" height=\"1600\"/>\n",
              "  </clipPath>\n",
              "</defs>\n",
              "<path clip-path=\"url(#clip670)\" d=\"M203.964 1423.18 L2352.76 1423.18 L2352.76 47.2441 L203.964 47.2441  Z\" fill=\"#ffffff\" fill-rule=\"evenodd\" fill-opacity=\"1\"/>\n",
              "<defs>\n",
              "  <clipPath id=\"clip672\">\n",
              "    <rect x=\"203\" y=\"47\" width=\"2150\" height=\"1377\"/>\n",
              "  </clipPath>\n",
              "</defs>\n",
              "<polyline clip-path=\"url(#clip672)\" style=\"stroke:#000000; stroke-linecap:round; stroke-linejoin:round; stroke-width:2; stroke-opacity:0.1; fill:none\" points=\"322.151,1423.18 322.151,47.2441 \"/>\n",
              "<polyline clip-path=\"url(#clip672)\" style=\"stroke:#000000; stroke-linecap:round; stroke-linejoin:round; stroke-width:2; stroke-opacity:0.1; fill:none\" points=\"640.887,1423.18 640.887,47.2441 \"/>\n",
              "<polyline clip-path=\"url(#clip672)\" style=\"stroke:#000000; stroke-linecap:round; stroke-linejoin:round; stroke-width:2; stroke-opacity:0.1; fill:none\" points=\"959.623,1423.18 959.623,47.2441 \"/>\n",
              "<polyline clip-path=\"url(#clip672)\" style=\"stroke:#000000; stroke-linecap:round; stroke-linejoin:round; stroke-width:2; stroke-opacity:0.1; fill:none\" points=\"1278.36,1423.18 1278.36,47.2441 \"/>\n",
              "<polyline clip-path=\"url(#clip672)\" style=\"stroke:#000000; stroke-linecap:round; stroke-linejoin:round; stroke-width:2; stroke-opacity:0.1; fill:none\" points=\"1597.1,1423.18 1597.1,47.2441 \"/>\n",
              "<polyline clip-path=\"url(#clip672)\" style=\"stroke:#000000; stroke-linecap:round; stroke-linejoin:round; stroke-width:2; stroke-opacity:0.1; fill:none\" points=\"1915.83,1423.18 1915.83,47.2441 \"/>\n",
              "<polyline clip-path=\"url(#clip672)\" style=\"stroke:#000000; stroke-linecap:round; stroke-linejoin:round; stroke-width:2; stroke-opacity:0.1; fill:none\" points=\"2234.57,1423.18 2234.57,47.2441 \"/>\n",
              "<polyline clip-path=\"url(#clip670)\" style=\"stroke:#000000; stroke-linecap:round; stroke-linejoin:round; stroke-width:4; stroke-opacity:1; fill:none\" points=\"203.964,1423.18 2352.76,1423.18 \"/>\n",
              "<polyline clip-path=\"url(#clip670)\" style=\"stroke:#000000; stroke-linecap:round; stroke-linejoin:round; stroke-width:4; stroke-opacity:1; fill:none\" points=\"322.151,1423.18 322.151,1404.28 \"/>\n",
              "<polyline clip-path=\"url(#clip670)\" style=\"stroke:#000000; stroke-linecap:round; stroke-linejoin:round; stroke-width:4; stroke-opacity:1; fill:none\" points=\"640.887,1423.18 640.887,1404.28 \"/>\n",
              "<polyline clip-path=\"url(#clip670)\" style=\"stroke:#000000; stroke-linecap:round; stroke-linejoin:round; stroke-width:4; stroke-opacity:1; fill:none\" points=\"959.623,1423.18 959.623,1404.28 \"/>\n",
              "<polyline clip-path=\"url(#clip670)\" style=\"stroke:#000000; stroke-linecap:round; stroke-linejoin:round; stroke-width:4; stroke-opacity:1; fill:none\" points=\"1278.36,1423.18 1278.36,1404.28 \"/>\n",
              "<polyline clip-path=\"url(#clip670)\" style=\"stroke:#000000; stroke-linecap:round; stroke-linejoin:round; stroke-width:4; stroke-opacity:1; fill:none\" points=\"1597.1,1423.18 1597.1,1404.28 \"/>\n",
              "<polyline clip-path=\"url(#clip670)\" style=\"stroke:#000000; stroke-linecap:round; stroke-linejoin:round; stroke-width:4; stroke-opacity:1; fill:none\" points=\"1915.83,1423.18 1915.83,1404.28 \"/>\n",
              "<polyline clip-path=\"url(#clip670)\" style=\"stroke:#000000; stroke-linecap:round; stroke-linejoin:round; stroke-width:4; stroke-opacity:1; fill:none\" points=\"2234.57,1423.18 2234.57,1404.28 \"/>\n",
              "<path clip-path=\"url(#clip670)\" d=\"M312.533 1481.64 L320.172 1481.64 L320.172 1455.28 L311.862 1456.95 L311.862 1452.69 L320.126 1451.02 L324.801 1451.02 L324.801 1481.64 L332.44 1481.64 L332.44 1485.58 L312.533 1485.58 L312.533 1481.64 Z\" fill=\"#000000\" fill-rule=\"nonzero\" fill-opacity=\"1\" /><path clip-path=\"url(#clip670)\" d=\"M635.54 1481.64 L651.859 1481.64 L651.859 1485.58 L629.915 1485.58 L629.915 1481.64 Q632.577 1478.89 637.16 1474.26 Q641.767 1469.61 642.947 1468.27 Q645.193 1465.74 646.072 1464.01 Q646.975 1462.25 646.975 1460.56 Q646.975 1457.8 645.031 1456.07 Q643.109 1454.33 640.008 1454.33 Q637.809 1454.33 635.355 1455.09 Q632.924 1455.86 630.147 1457.41 L630.147 1452.69 Q632.971 1451.55 635.424 1450.97 Q637.878 1450.39 639.915 1450.39 Q645.285 1450.39 648.48 1453.08 Q651.674 1455.77 651.674 1460.26 Q651.674 1462.39 650.864 1464.31 Q650.077 1466.2 647.971 1468.8 Q647.392 1469.47 644.29 1472.69 Q641.188 1475.88 635.54 1481.64 Z\" fill=\"#000000\" fill-rule=\"nonzero\" fill-opacity=\"1\" /><path clip-path=\"url(#clip670)\" d=\"M963.871 1466.95 Q967.228 1467.66 969.103 1469.93 Q971.001 1472.2 971.001 1475.53 Q971.001 1480.65 967.482 1483.45 Q963.964 1486.25 957.482 1486.25 Q955.306 1486.25 952.992 1485.81 Q950.7 1485.39 948.246 1484.54 L948.246 1480.02 Q950.191 1481.16 952.505 1481.74 Q954.82 1482.32 957.343 1482.32 Q961.742 1482.32 964.033 1480.58 Q966.348 1478.84 966.348 1475.53 Q966.348 1472.48 964.195 1470.77 Q962.066 1469.03 958.246 1469.03 L954.218 1469.03 L954.218 1465.19 L958.431 1465.19 Q961.88 1465.19 963.709 1463.82 Q965.538 1462.43 965.538 1459.84 Q965.538 1457.18 963.64 1455.77 Q961.765 1454.33 958.246 1454.33 Q956.325 1454.33 954.126 1454.75 Q951.927 1455.16 949.288 1456.04 L949.288 1451.88 Q951.95 1451.14 954.265 1450.77 Q956.603 1450.39 958.663 1450.39 Q963.987 1450.39 967.089 1452.83 Q970.191 1455.23 970.191 1459.35 Q970.191 1462.22 968.547 1464.21 Q966.904 1466.18 963.871 1466.95 Z\" fill=\"#000000\" fill-rule=\"nonzero\" fill-opacity=\"1\" /><path clip-path=\"url(#clip670)\" d=\"M1281.37 1455.09 L1269.56 1473.54 L1281.37 1473.54 L1281.37 1455.09 M1280.14 1451.02 L1286.02 1451.02 L1286.02 1473.54 L1290.95 1473.54 L1290.95 1477.43 L1286.02 1477.43 L1286.02 1485.58 L1281.37 1485.58 L1281.37 1477.43 L1265.77 1477.43 L1265.77 1472.92 L1280.14 1451.02 Z\" fill=\"#000000\" fill-rule=\"nonzero\" fill-opacity=\"1\" /><path clip-path=\"url(#clip670)\" d=\"M1587.37 1451.02 L1605.73 1451.02 L1605.73 1454.96 L1591.66 1454.96 L1591.66 1463.43 Q1592.67 1463.08 1593.69 1462.92 Q1594.71 1462.73 1595.73 1462.73 Q1601.52 1462.73 1604.9 1465.9 Q1608.28 1469.08 1608.28 1474.49 Q1608.28 1480.07 1604.8 1483.17 Q1601.33 1486.25 1595.01 1486.25 Q1592.84 1486.25 1590.57 1485.88 Q1588.32 1485.51 1585.92 1484.77 L1585.92 1480.07 Q1588 1481.2 1590.22 1481.76 Q1592.44 1482.32 1594.92 1482.32 Q1598.92 1482.32 1601.26 1480.21 Q1603.6 1478.1 1603.6 1474.49 Q1603.6 1470.88 1601.26 1468.77 Q1598.92 1466.67 1594.92 1466.67 Q1593.05 1466.67 1591.17 1467.08 Q1589.32 1467.5 1587.37 1468.38 L1587.37 1451.02 Z\" fill=\"#000000\" fill-rule=\"nonzero\" fill-opacity=\"1\" /><path clip-path=\"url(#clip670)\" d=\"M1916.24 1466.44 Q1913.09 1466.44 1911.24 1468.59 Q1909.41 1470.74 1909.41 1474.49 Q1909.41 1478.22 1911.24 1480.39 Q1913.09 1482.55 1916.24 1482.55 Q1919.39 1482.55 1921.21 1480.39 Q1923.07 1478.22 1923.07 1474.49 Q1923.07 1470.74 1921.21 1468.59 Q1919.39 1466.44 1916.24 1466.44 M1925.52 1451.78 L1925.52 1456.04 Q1923.76 1455.21 1921.95 1454.77 Q1920.17 1454.33 1918.41 1454.33 Q1913.78 1454.33 1911.33 1457.45 Q1908.9 1460.58 1908.55 1466.9 Q1909.92 1464.89 1911.98 1463.82 Q1914.04 1462.73 1916.52 1462.73 Q1921.72 1462.73 1924.73 1465.9 Q1927.77 1469.05 1927.77 1474.49 Q1927.77 1479.82 1924.62 1483.03 Q1921.47 1486.25 1916.24 1486.25 Q1910.24 1486.25 1907.07 1481.67 Q1903.9 1477.06 1903.9 1468.33 Q1903.9 1460.14 1907.79 1455.28 Q1911.68 1450.39 1918.23 1450.39 Q1919.99 1450.39 1921.77 1450.74 Q1923.58 1451.09 1925.52 1451.78 Z\" fill=\"#000000\" fill-rule=\"nonzero\" fill-opacity=\"1\" /><path clip-path=\"url(#clip670)\" d=\"M2223.46 1451.02 L2245.68 1451.02 L2245.68 1453.01 L2233.13 1485.58 L2228.25 1485.58 L2240.05 1454.96 L2223.46 1454.96 L2223.46 1451.02 Z\" fill=\"#000000\" fill-rule=\"nonzero\" fill-opacity=\"1\" /><path clip-path=\"url(#clip670)\" d=\"M1117.74 1525.81 L1117.74 1562.76 L1125.5 1562.76 Q1135.34 1562.76 1139.89 1558.3 Q1144.47 1553.85 1144.47 1544.24 Q1144.47 1534.69 1139.89 1530.26 Q1135.34 1525.81 1125.5 1525.81 L1117.74 1525.81 M1111.31 1520.52 L1124.52 1520.52 Q1138.33 1520.52 1144.79 1526.28 Q1151.25 1532.01 1151.25 1544.24 Q1151.25 1556.52 1144.76 1562.28 Q1138.27 1568.04 1124.52 1568.04 L1111.31 1568.04 L1111.31 1520.52 Z\" fill=\"#000000\" fill-rule=\"nonzero\" fill-opacity=\"1\" /><path clip-path=\"url(#clip670)\" d=\"M1161.25 1532.4 L1167.1 1532.4 L1167.1 1568.04 L1161.25 1568.04 L1161.25 1532.4 M1161.25 1518.52 L1167.1 1518.52 L1167.1 1525.93 L1161.25 1525.93 L1161.25 1518.52 Z\" fill=\"#000000\" fill-rule=\"nonzero\" fill-opacity=\"1\" /><path clip-path=\"url(#clip670)\" d=\"M1205.01 1533.76 L1205.01 1539.24 Q1202.53 1537.87 1200.01 1537.2 Q1197.53 1536.5 1194.98 1536.5 Q1189.29 1536.5 1186.14 1540.13 Q1182.99 1543.73 1182.99 1550.25 Q1182.99 1556.78 1186.14 1560.4 Q1189.29 1564 1194.98 1564 Q1197.53 1564 1200.01 1563.33 Q1202.53 1562.63 1205.01 1561.26 L1205.01 1566.68 Q1202.56 1567.82 1199.92 1568.39 Q1197.31 1568.97 1194.35 1568.97 Q1186.3 1568.97 1181.55 1563.91 Q1176.81 1558.85 1176.81 1550.25 Q1176.81 1541.53 1181.59 1536.53 Q1186.39 1531.54 1194.73 1531.54 Q1197.44 1531.54 1200.01 1532.11 Q1202.59 1532.65 1205.01 1533.76 Z\" fill=\"#000000\" fill-rule=\"nonzero\" fill-opacity=\"1\" /><path clip-path=\"url(#clip670)\" d=\"M1245.69 1548.76 L1245.69 1551.62 L1218.76 1551.62 Q1219.14 1557.67 1222.39 1560.85 Q1225.67 1564 1231.49 1564 Q1234.87 1564 1238.02 1563.17 Q1241.2 1562.35 1244.32 1560.69 L1244.32 1566.23 Q1241.17 1567.57 1237.86 1568.27 Q1234.55 1568.97 1231.14 1568.97 Q1222.61 1568.97 1217.61 1564 Q1212.65 1559.04 1212.65 1550.57 Q1212.65 1541.82 1217.36 1536.69 Q1222.1 1531.54 1230.12 1531.54 Q1237.32 1531.54 1241.49 1536.18 Q1245.69 1540.8 1245.69 1548.76 M1239.83 1547.04 Q1239.77 1542.23 1237.13 1539.37 Q1234.52 1536.5 1230.19 1536.5 Q1225.29 1536.5 1222.33 1539.27 Q1219.4 1542.04 1218.95 1547.07 L1239.83 1547.04 Z\" fill=\"#000000\" fill-rule=\"nonzero\" fill-opacity=\"1\" /><path clip-path=\"url(#clip670)\" d=\"M1288.53 1568.04 L1270.39 1520.52 L1277.1 1520.52 L1292.16 1560.53 L1307.24 1520.52 L1313.93 1520.52 L1295.82 1568.04 L1288.53 1568.04 Z\" fill=\"#000000\" fill-rule=\"nonzero\" fill-opacity=\"1\" /><path clip-path=\"url(#clip670)\" d=\"M1331.75 1550.12 Q1324.65 1550.12 1321.92 1551.75 Q1319.18 1553.37 1319.18 1557.29 Q1319.18 1560.4 1321.22 1562.25 Q1323.29 1564.07 1326.82 1564.07 Q1331.69 1564.07 1334.62 1560.63 Q1337.58 1557.16 1337.58 1551.43 L1337.58 1550.12 L1331.75 1550.12 M1343.43 1547.71 L1343.43 1568.04 L1337.58 1568.04 L1337.58 1562.63 Q1335.57 1565.88 1332.58 1567.44 Q1329.59 1568.97 1325.26 1568.97 Q1319.78 1568.97 1316.54 1565.91 Q1313.32 1562.82 1313.32 1557.67 Q1313.32 1551.65 1317.33 1548.6 Q1321.38 1545.54 1329.36 1545.54 L1337.58 1545.54 L1337.58 1544.97 Q1337.58 1540.93 1334.9 1538.73 Q1332.26 1536.5 1327.46 1536.5 Q1324.4 1536.5 1321.5 1537.23 Q1318.61 1537.97 1315.93 1539.43 L1315.93 1534.02 Q1319.15 1532.78 1322.17 1532.17 Q1325.2 1531.54 1328.06 1531.54 Q1335.79 1531.54 1339.61 1535.55 Q1343.43 1539.56 1343.43 1547.71 Z\" fill=\"#000000\" fill-rule=\"nonzero\" fill-opacity=\"1\" /><path clip-path=\"url(#clip670)\" d=\"M1355.5 1518.52 L1361.35 1518.52 L1361.35 1568.04 L1355.5 1568.04 L1355.5 1518.52 Z\" fill=\"#000000\" fill-rule=\"nonzero\" fill-opacity=\"1\" /><path clip-path=\"url(#clip670)\" d=\"M1373 1553.98 L1373 1532.4 L1378.86 1532.4 L1378.86 1553.75 Q1378.86 1558.81 1380.83 1561.36 Q1382.81 1563.87 1386.75 1563.87 Q1391.49 1563.87 1394.23 1560.85 Q1397 1557.83 1397 1552.61 L1397 1532.4 L1402.86 1532.4 L1402.86 1568.04 L1397 1568.04 L1397 1562.57 Q1394.87 1565.82 1392.04 1567.41 Q1389.23 1568.97 1385.51 1568.97 Q1379.37 1568.97 1376.18 1565.15 Q1373 1561.33 1373 1553.98 M1387.74 1531.54 L1387.74 1531.54 Z\" fill=\"#000000\" fill-rule=\"nonzero\" fill-opacity=\"1\" /><path clip-path=\"url(#clip670)\" d=\"M1445.41 1548.76 L1445.41 1551.62 L1418.48 1551.62 Q1418.87 1557.67 1422.11 1560.85 Q1425.39 1564 1431.22 1564 Q1434.59 1564 1437.74 1563.17 Q1440.92 1562.35 1444.04 1560.69 L1444.04 1566.23 Q1440.89 1567.57 1437.58 1568.27 Q1434.27 1568.97 1430.87 1568.97 Q1422.34 1568.97 1417.34 1564 Q1412.37 1559.04 1412.37 1550.57 Q1412.37 1541.82 1417.08 1536.69 Q1421.83 1531.54 1429.85 1531.54 Q1437.04 1531.54 1441.21 1536.18 Q1445.41 1540.8 1445.41 1548.76 M1439.56 1547.04 Q1439.49 1542.23 1436.85 1539.37 Q1434.24 1536.5 1429.91 1536.5 Q1425.01 1536.5 1422.05 1539.27 Q1419.12 1542.04 1418.68 1547.07 L1439.56 1547.04 Z\" fill=\"#000000\" fill-rule=\"nonzero\" fill-opacity=\"1\" /><polyline clip-path=\"url(#clip672)\" style=\"stroke:#000000; stroke-linecap:round; stroke-linejoin:round; stroke-width:2; stroke-opacity:0.1; fill:none\" points=\"203.964,1423.18 2352.76,1423.18 \"/>\n",
              "<polyline clip-path=\"url(#clip672)\" style=\"stroke:#000000; stroke-linecap:round; stroke-linejoin:round; stroke-width:2; stroke-opacity:0.1; fill:none\" points=\"203.964,1136.53 2352.76,1136.53 \"/>\n",
              "<polyline clip-path=\"url(#clip672)\" style=\"stroke:#000000; stroke-linecap:round; stroke-linejoin:round; stroke-width:2; stroke-opacity:0.1; fill:none\" points=\"203.964,849.873 2352.76,849.873 \"/>\n",
              "<polyline clip-path=\"url(#clip672)\" style=\"stroke:#000000; stroke-linecap:round; stroke-linejoin:round; stroke-width:2; stroke-opacity:0.1; fill:none\" points=\"203.964,563.22 2352.76,563.22 \"/>\n",
              "<polyline clip-path=\"url(#clip672)\" style=\"stroke:#000000; stroke-linecap:round; stroke-linejoin:round; stroke-width:2; stroke-opacity:0.1; fill:none\" points=\"203.964,276.567 2352.76,276.567 \"/>\n",
              "<polyline clip-path=\"url(#clip670)\" style=\"stroke:#000000; stroke-linecap:round; stroke-linejoin:round; stroke-width:4; stroke-opacity:1; fill:none\" points=\"203.964,1423.18 203.964,47.2441 \"/>\n",
              "<polyline clip-path=\"url(#clip670)\" style=\"stroke:#000000; stroke-linecap:round; stroke-linejoin:round; stroke-width:4; stroke-opacity:1; fill:none\" points=\"203.964,1423.18 222.861,1423.18 \"/>\n",
              "<polyline clip-path=\"url(#clip670)\" style=\"stroke:#000000; stroke-linecap:round; stroke-linejoin:round; stroke-width:4; stroke-opacity:1; fill:none\" points=\"203.964,1136.53 222.861,1136.53 \"/>\n",
              "<polyline clip-path=\"url(#clip670)\" style=\"stroke:#000000; stroke-linecap:round; stroke-linejoin:round; stroke-width:4; stroke-opacity:1; fill:none\" points=\"203.964,849.873 222.861,849.873 \"/>\n",
              "<polyline clip-path=\"url(#clip670)\" style=\"stroke:#000000; stroke-linecap:round; stroke-linejoin:round; stroke-width:4; stroke-opacity:1; fill:none\" points=\"203.964,563.22 222.861,563.22 \"/>\n",
              "<polyline clip-path=\"url(#clip670)\" style=\"stroke:#000000; stroke-linecap:round; stroke-linejoin:round; stroke-width:4; stroke-opacity:1; fill:none\" points=\"203.964,276.567 222.861,276.567 \"/>\n",
              "<path clip-path=\"url(#clip670)\" d=\"M156.019 1408.98 Q152.408 1408.98 150.579 1412.54 Q148.774 1416.08 148.774 1423.21 Q148.774 1430.32 150.579 1433.89 Q152.408 1437.43 156.019 1437.43 Q159.653 1437.43 161.459 1433.89 Q163.288 1430.32 163.288 1423.21 Q163.288 1416.08 161.459 1412.54 Q159.653 1408.98 156.019 1408.98 M156.019 1405.27 Q161.829 1405.27 164.885 1409.88 Q167.964 1414.46 167.964 1423.21 Q167.964 1431.94 164.885 1436.55 Q161.829 1441.13 156.019 1441.13 Q150.209 1441.13 147.13 1436.55 Q144.075 1431.94 144.075 1423.21 Q144.075 1414.46 147.13 1409.88 Q150.209 1405.27 156.019 1405.27 Z\" fill=\"#000000\" fill-rule=\"nonzero\" fill-opacity=\"1\" /><path clip-path=\"url(#clip670)\" d=\"M147.061 1119.25 L165.417 1119.25 L165.417 1123.18 L151.343 1123.18 L151.343 1131.65 Q152.362 1131.31 153.38 1131.14 Q154.399 1130.96 155.417 1130.96 Q161.204 1130.96 164.584 1134.13 Q167.964 1137.3 167.964 1142.72 Q167.964 1148.3 164.491 1151.4 Q161.019 1154.48 154.7 1154.48 Q152.524 1154.48 150.255 1154.11 Q148.01 1153.74 145.603 1153 L145.603 1148.3 Q147.686 1149.43 149.908 1149.99 Q152.13 1150.54 154.607 1150.54 Q158.612 1150.54 160.95 1148.44 Q163.288 1146.33 163.288 1142.72 Q163.288 1139.11 160.95 1137 Q158.612 1134.89 154.607 1134.89 Q152.732 1134.89 150.857 1135.31 Q149.005 1135.73 147.061 1136.61 L147.061 1119.25 Z\" fill=\"#000000\" fill-rule=\"nonzero\" fill-opacity=\"1\" /><path clip-path=\"url(#clip670)\" d=\"M116.668 863.218 L124.306 863.218 L124.306 836.853 L115.996 838.519 L115.996 834.26 L124.26 832.593 L128.936 832.593 L128.936 863.218 L136.575 863.218 L136.575 867.153 L116.668 867.153 L116.668 863.218 Z\" fill=\"#000000\" fill-rule=\"nonzero\" fill-opacity=\"1\" /><path clip-path=\"url(#clip670)\" d=\"M156.019 835.672 Q152.408 835.672 150.579 839.237 Q148.774 842.778 148.774 849.908 Q148.774 857.014 150.579 860.579 Q152.408 864.121 156.019 864.121 Q159.653 864.121 161.459 860.579 Q163.288 857.014 163.288 849.908 Q163.288 842.778 161.459 839.237 Q159.653 835.672 156.019 835.672 M156.019 831.968 Q161.829 831.968 164.885 836.575 Q167.964 841.158 167.964 849.908 Q167.964 858.635 164.885 863.241 Q161.829 867.825 156.019 867.825 Q150.209 867.825 147.13 863.241 Q144.075 858.635 144.075 849.908 Q144.075 841.158 147.13 836.575 Q150.209 831.968 156.019 831.968 Z\" fill=\"#000000\" fill-rule=\"nonzero\" fill-opacity=\"1\" /><path clip-path=\"url(#clip670)\" d=\"M117.663 576.565 L125.302 576.565 L125.302 550.199 L116.992 551.866 L116.992 547.607 L125.255 545.94 L129.931 545.94 L129.931 576.565 L137.57 576.565 L137.57 580.5 L117.663 580.5 L117.663 576.565 Z\" fill=\"#000000\" fill-rule=\"nonzero\" fill-opacity=\"1\" /><path clip-path=\"url(#clip670)\" d=\"M147.061 545.94 L165.417 545.94 L165.417 549.875 L151.343 549.875 L151.343 558.347 Q152.362 558 153.38 557.838 Q154.399 557.653 155.417 557.653 Q161.204 557.653 164.584 560.824 Q167.964 563.995 167.964 569.412 Q167.964 574.991 164.491 578.093 Q161.019 581.171 154.7 581.171 Q152.524 581.171 150.255 580.801 Q148.01 580.431 145.603 579.69 L145.603 574.991 Q147.686 576.125 149.908 576.681 Q152.13 577.236 154.607 577.236 Q158.612 577.236 160.95 575.13 Q163.288 573.023 163.288 569.412 Q163.288 565.801 160.95 563.695 Q158.612 561.588 154.607 561.588 Q152.732 561.588 150.857 562.005 Q149.005 562.421 147.061 563.301 L147.061 545.94 Z\" fill=\"#000000\" fill-rule=\"nonzero\" fill-opacity=\"1\" /><path clip-path=\"url(#clip670)\" d=\"M119.885 289.912 L136.204 289.912 L136.204 293.847 L114.26 293.847 L114.26 289.912 Q116.922 287.157 121.505 282.527 Q126.112 277.875 127.292 276.532 Q129.538 274.009 130.417 272.273 Q131.32 270.514 131.32 268.824 Q131.32 266.069 129.376 264.333 Q127.455 262.597 124.353 262.597 Q122.154 262.597 119.7 263.361 Q117.269 264.125 114.492 265.676 L114.492 260.953 Q117.316 259.819 119.769 259.24 Q122.223 258.662 124.26 258.662 Q129.63 258.662 132.825 261.347 Q136.019 264.032 136.019 268.523 Q136.019 270.652 135.209 272.574 Q134.422 274.472 132.316 277.064 Q131.737 277.736 128.635 280.953 Q125.533 284.148 119.885 289.912 Z\" fill=\"#000000\" fill-rule=\"nonzero\" fill-opacity=\"1\" /><path clip-path=\"url(#clip670)\" d=\"M156.019 262.365 Q152.408 262.365 150.579 265.93 Q148.774 269.472 148.774 276.601 Q148.774 283.708 150.579 287.273 Q152.408 290.814 156.019 290.814 Q159.653 290.814 161.459 287.273 Q163.288 283.708 163.288 276.601 Q163.288 269.472 161.459 265.93 Q159.653 262.365 156.019 262.365 M156.019 258.662 Q161.829 258.662 164.885 263.268 Q167.964 267.851 167.964 276.601 Q167.964 285.328 164.885 289.935 Q161.829 294.518 156.019 294.518 Q150.209 294.518 147.13 289.935 Q144.075 285.328 144.075 276.601 Q144.075 267.851 147.13 263.268 Q150.209 258.662 156.019 258.662 Z\" fill=\"#000000\" fill-rule=\"nonzero\" fill-opacity=\"1\" /><path clip-path=\"url(#clip670)\" d=\"M20.1444 791.071 L26.9239 791.071 Q23.9002 794.318 22.4043 798.01 Q20.9083 801.67 20.9083 805.808 Q20.9083 813.956 25.9054 818.284 Q30.8707 822.613 40.2919 822.613 Q49.6813 822.613 54.6784 818.284 Q59.6436 813.956 59.6436 805.808 Q59.6436 801.67 58.1477 798.01 Q56.6518 794.318 53.6281 791.071 L60.3439 791.071 Q62.6355 794.445 63.7814 798.232 Q64.9272 801.988 64.9272 806.19 Q64.9272 816.979 58.3387 823.186 Q51.7183 829.393 40.2919 829.393 Q28.8336 829.393 22.2451 823.186 Q15.6248 816.979 15.6248 806.19 Q15.6248 801.925 16.7706 798.169 Q17.8846 794.381 20.1444 791.071 Z\" fill=\"#000000\" fill-rule=\"nonzero\" fill-opacity=\"1\" /><path clip-path=\"url(#clip670)\" d=\"M32.4621 767.582 Q32.4621 772.292 36.1542 775.029 Q39.8145 777.767 46.212 777.767 Q52.6095 777.767 56.3017 775.061 Q59.9619 772.324 59.9619 767.582 Q59.9619 762.903 56.2698 760.166 Q52.5777 757.428 46.212 757.428 Q39.8781 757.428 36.186 760.166 Q32.4621 762.903 32.4621 767.582 M27.4968 767.582 Q27.4968 759.943 32.4621 755.582 Q37.4273 751.222 46.212 751.222 Q54.9649 751.222 59.9619 755.582 Q64.9272 759.943 64.9272 767.582 Q64.9272 775.252 59.9619 779.613 Q54.9649 783.941 46.212 783.941 Q37.4273 783.941 32.4621 779.613 Q27.4968 775.252 27.4968 767.582 Z\" fill=\"#000000\" fill-rule=\"nonzero\" fill-opacity=\"1\" /><path clip-path=\"url(#clip670)\" d=\"M49.9359 742.119 L28.3562 742.119 L28.3562 736.262 L49.7131 736.262 Q54.7739 736.262 57.3202 734.289 Q59.8346 732.316 59.8346 728.369 Q59.8346 723.626 56.8109 720.889 Q53.7872 718.12 48.5673 718.12 L28.3562 718.12 L28.3562 712.264 L64.0042 712.264 L64.0042 718.12 L58.5296 718.12 Q61.7762 720.253 63.3676 723.085 Q64.9272 725.886 64.9272 729.61 Q64.9272 735.753 61.1078 738.936 Q57.2883 742.119 49.9359 742.119 M27.4968 727.382 L27.4968 727.382 Z\" fill=\"#000000\" fill-rule=\"nonzero\" fill-opacity=\"1\" /><path clip-path=\"url(#clip670)\" d=\"M42.4881 670.568 L64.0042 670.568 L64.0042 676.425 L42.679 676.425 Q37.6183 676.425 35.1038 678.398 Q32.5894 680.371 32.5894 684.318 Q32.5894 689.061 35.6131 691.798 Q38.6368 694.535 43.8567 694.535 L64.0042 694.535 L64.0042 700.423 L28.3562 700.423 L28.3562 694.535 L33.8944 694.535 Q30.6797 692.434 29.0883 689.602 Q27.4968 686.737 27.4968 683.013 Q27.4968 676.87 31.3163 673.719 Q35.1038 670.568 42.4881 670.568 Z\" fill=\"#000000\" fill-rule=\"nonzero\" fill-opacity=\"1\" /><path clip-path=\"url(#clip670)\" d=\"M18.2347 653.094 L28.3562 653.094 L28.3562 641.031 L32.9077 641.031 L32.9077 653.094 L52.2594 653.094 Q56.6199 653.094 57.8613 651.917 Q59.1026 650.707 59.1026 647.047 L59.1026 641.031 L64.0042 641.031 L64.0042 647.047 Q64.0042 653.826 61.4897 656.405 Q58.9434 658.983 52.2594 658.983 L32.9077 658.983 L32.9077 663.279 L28.3562 663.279 L28.3562 658.983 L18.2347 658.983 L18.2347 653.094 Z\" fill=\"#000000\" fill-rule=\"nonzero\" fill-opacity=\"1\" /><path clip-path=\"url(#clip672)\" d=\"M322.151 47.2441 L322.151 1423.18 L640.887 1423.18 L640.887 47.2441 L322.151 47.2441 L322.151 47.2441  Z\" fill=\"#009af9\" fill-rule=\"evenodd\" fill-opacity=\"1\"/>\n",
              "<polyline clip-path=\"url(#clip672)\" style=\"stroke:#000000; stroke-linecap:round; stroke-linejoin:round; stroke-width:4; stroke-opacity:1; fill:none\" points=\"322.151,47.2441 322.151,1423.18 640.887,1423.18 640.887,47.2441 322.151,47.2441 \"/>\n",
              "<path clip-path=\"url(#clip672)\" d=\"M640.887 448.559 L640.887 1423.18 L959.623 1423.18 L959.623 448.559 L640.887 448.559 L640.887 448.559  Z\" fill=\"#009af9\" fill-rule=\"evenodd\" fill-opacity=\"1\"/>\n",
              "<polyline clip-path=\"url(#clip672)\" style=\"stroke:#000000; stroke-linecap:round; stroke-linejoin:round; stroke-width:4; stroke-opacity:1; fill:none\" points=\"640.887,448.559 640.887,1423.18 959.623,1423.18 959.623,448.559 640.887,448.559 \"/>\n",
              "<path clip-path=\"url(#clip672)\" d=\"M959.623 735.212 L959.623 1423.18 L1278.36 1423.18 L1278.36 735.212 L959.623 735.212 L959.623 735.212  Z\" fill=\"#009af9\" fill-rule=\"evenodd\" fill-opacity=\"1\"/>\n",
              "<polyline clip-path=\"url(#clip672)\" style=\"stroke:#000000; stroke-linecap:round; stroke-linejoin:round; stroke-width:4; stroke-opacity:1; fill:none\" points=\"959.623,735.212 959.623,1423.18 1278.36,1423.18 1278.36,735.212 959.623,735.212 \"/>\n",
              "<path clip-path=\"url(#clip672)\" d=\"M1278.36 1021.87 L1278.36 1423.18 L1597.1 1423.18 L1597.1 1021.87 L1278.36 1021.87 L1278.36 1021.87  Z\" fill=\"#009af9\" fill-rule=\"evenodd\" fill-opacity=\"1\"/>\n",
              "<polyline clip-path=\"url(#clip672)\" style=\"stroke:#000000; stroke-linecap:round; stroke-linejoin:round; stroke-width:4; stroke-opacity:1; fill:none\" points=\"1278.36,1021.87 1278.36,1423.18 1597.1,1423.18 1597.1,1021.87 1278.36,1021.87 \"/>\n",
              "<path clip-path=\"url(#clip672)\" d=\"M1597.1 505.889 L1597.1 1423.18 L1915.83 1423.18 L1915.83 505.889 L1597.1 505.889 L1597.1 505.889  Z\" fill=\"#009af9\" fill-rule=\"evenodd\" fill-opacity=\"1\"/>\n",
              "<polyline clip-path=\"url(#clip672)\" style=\"stroke:#000000; stroke-linecap:round; stroke-linejoin:round; stroke-width:4; stroke-opacity:1; fill:none\" points=\"1597.1,505.889 1597.1,1423.18 1915.83,1423.18 1915.83,505.889 1597.1,505.889 \"/>\n",
              "<path clip-path=\"url(#clip672)\" d=\"M1915.83 47.2441 L1915.83 1423.18 L2234.57 1423.18 L2234.57 47.2441 L1915.83 47.2441 L1915.83 47.2441  Z\" fill=\"#009af9\" fill-rule=\"evenodd\" fill-opacity=\"1\"/>\n",
              "<polyline clip-path=\"url(#clip672)\" style=\"stroke:#000000; stroke-linecap:round; stroke-linejoin:round; stroke-width:4; stroke-opacity:1; fill:none\" points=\"1915.83,47.2441 1915.83,1423.18 2234.57,1423.18 2234.57,47.2441 1915.83,47.2441 \"/>\n",
              "<circle clip-path=\"url(#clip672)\" style=\"fill:#009af9; stroke:none; fill-opacity:0\" cx=\"481.519\" cy=\"47.2441\" r=\"2\"/>\n",
              "<circle clip-path=\"url(#clip672)\" style=\"fill:#009af9; stroke:none; fill-opacity:0\" cx=\"800.255\" cy=\"448.559\" r=\"2\"/>\n",
              "<circle clip-path=\"url(#clip672)\" style=\"fill:#009af9; stroke:none; fill-opacity:0\" cx=\"1118.99\" cy=\"735.212\" r=\"2\"/>\n",
              "<circle clip-path=\"url(#clip672)\" style=\"fill:#009af9; stroke:none; fill-opacity:0\" cx=\"1437.73\" cy=\"1021.87\" r=\"2\"/>\n",
              "<circle clip-path=\"url(#clip672)\" style=\"fill:#009af9; stroke:none; fill-opacity:0\" cx=\"1756.46\" cy=\"505.889\" r=\"2\"/>\n",
              "<circle clip-path=\"url(#clip672)\" style=\"fill:#009af9; stroke:none; fill-opacity:0\" cx=\"2075.2\" cy=\"47.2441\" r=\"2\"/>\n",
              "</svg>\n"
            ]
          },
          "metadata": {},
          "output_type": "display_data"
        }
      ],
      "source": [
        "histogram(dice_rolls, legend=:false, bins=6)\n",
        "ylabel!(\"Count\")\n",
        "xlabel!(\"Dice Value\")"
      ]
    },
    {
      "cell_type": "markdown",
      "id": "9e2af7c7-78f9-4d13-b799-5be1e8781f4b",
      "metadata": {},
      "source": [
        "**Remember to**:\n",
        "\n",
        "-   Evaluate all of your code cells, in order (using a `Run All`\n",
        "    command). This will make sure all output is visible and that the\n",
        "    code cells were evaluated in the correct order.\n",
        "-   Tag each of the problems when you submit to Gradescope; a 10%\n",
        "    penalty will be deducted if this is not done."
      ]
    },
    {
      "cell_type": "markdown",
      "id": "3bd5fdc8-2dd6-47e5-b9fe-391bb9ea51ba",
      "metadata": {},
      "source": [
        "## Exercises (10 points)\n",
        "\n",
        "In Problem 1, you will compute the probability of getting a specific\n",
        "combination of multiple dice rolls. The focus will be on understanding\n",
        "how the Monte Carlo estimate changes based on the number of simulations.\n",
        "\n",
        "In Problem 2, we will implement the culmination of every episode of the\n",
        "long-running game show [The Price Is\n",
        "Right](https://en.wikipedia.org/wiki/The_Price_Is_Right): the\n",
        "[Showcase](https://en.wikipedia.org/wiki/The_Price_Is_Right#Showcase).\n",
        "You will be asked to make a plot of expected winnings by bid for a\n",
        "particular distribution of prize values.\n",
        "\n",
        "You should always start any computing with random numbers by setting a\n",
        "“seed,” which controls the sequence of numbers which are generated\n",
        "(since these are not *really* random, just “pseudorandom”). In Julia, we\n",
        "do this with the `Random.seed!()` function.\n",
        "\n",
        "``` julia\n",
        "Random.seed!(1)\n",
        "```\n",
        "\n",
        "    TaskLocalRNG()\n",
        "\n",
        "It doesn’t matter what seed you set, though different seeds might result\n",
        "in slightly different values. But setting a seed means every time your\n",
        "notebook is run, the answer will be the same.\n",
        "\n",
        "> **Seeds and Reproducing Solutions**\n",
        ">\n",
        "> If you don’t re-run your code in the same order or if you re-run the\n",
        "> same cell repeatedly, you will not get the same solution. If you’re\n",
        "> working on a specific problem, you might want to re-use\n",
        "> `Random.seed()` near any block of code you want to re-evaluate\n",
        "> repeatedly."
      ]
    },
    {
      "cell_type": "markdown",
      "id": "c9cbc8d5-2cd1-4315-ba44-98fb8e7065f5",
      "metadata": {},
      "source": [
        "### Problem 1 (5 points)\n",
        "\n",
        "We want to know the probability of getting at least an 11 from rolling\n",
        "three fair, six-sided dice (this is actually an old Italian game called\n",
        "*passadieci*, which was analyzed by Galileo as one of the first examples\n",
        "of a rigorous study of probability)."
      ]
    },
    {
      "cell_type": "markdown",
      "id": "90277c08-7d25-49ed-a869-3552972dfaa5",
      "metadata": {},
      "source": [
        "#### Problem 1.1 (1 point)\n",
        "\n",
        "Write a function called `passadieci()` to simulate this game, which will\n",
        "take as an input the number of realizations and output a vector of the\n",
        "sum of the three dice rolls for each realization."
      ]
    },
    {
      "cell_type": "code",
      "execution_count": 10,
      "id": "363b4a31",
      "metadata": {},
      "outputs": [
        {
          "data": {
            "text/plain": [
              "passadieci (generic function with 1 method)"
            ]
          },
          "metadata": {},
          "output_type": "display_data"
        }
      ],
      "source": [
        "function passadieci(realizations)\n",
        "    output_vec=[];\n",
        "    for i=1:realizations\n",
        "        dice_dist = DiscreteUniform(1, 6) # can generate any integer between 1 and 6\n",
        "        dice_rolls = rand(dice_dist, 3) # simulate rolls\n",
        "        dice_3_sum = sum(dice_rolls[:]); # sum up the 3 rolls in this iteration\n",
        "        push!(output_vec,dice_3_sum)\n",
        "    end\n",
        "    return output_vec\n",
        "end"
      ]
    },
    {
      "cell_type": "markdown",
      "id": "8d995585-1ba3-440b-9e5f-2ab8e51fedcc",
      "metadata": {},
      "source": [
        "### Problem 1.2 (2 points)\n",
        "\n",
        "Generate 5,000 simulations of the game using your `passadieci()`\n",
        "function. Plot how the computed probability of winning the game changes\n",
        "as the number of simulations increases (you can do this by computing the\n",
        "frequency of wins for each additional simulation)."
      ]
    },
    {
      "cell_type": "code",
      "execution_count": 11,
      "id": "ffea45cd",
      "metadata": {},
      "outputs": [
        {
          "ename": "BoundsError",
          "evalue": "BoundsError: attempt to access 5-element Vector{Any} at index []",
          "output_type": "error",
          "traceback": [
            "BoundsError: attempt to access 5-element Vector{Any} at index []\n",
            "\n",
            "Stacktrace:\n",
            " [1] throw_boundserror(A::Vector{Any}, I::Tuple{})\n",
            "   @ Base ./abstractarray.jl:744\n",
            " [2] checkbounds\n",
            "   @ ./abstractarray.jl:709 [inlined]\n",
            " [3] _setindex!\n",
            "   @ ./abstractarray.jl:1419 [inlined]\n",
            " [4] setindex!(::Vector{Any}, ::Vector{Any})\n",
            "   @ Base ./abstractarray.jl:1397\n",
            " [5] top-level scope\n",
            "   @ ~/Desktop/Cornell/Fall2023/BEE4750/lab-02-jrmarcuse/lab02.ipynb:9"
          ]
        }
      ],
      "source": [
        "pvec = passadieci(5000);\n",
        "wins=0;\n",
        "prob=[];\n",
        "for i=1:5000\n",
        "    if pvec[i]>=11\n",
        "        wins=wins+1;\n",
        "        push!(prob, wins/i);\n",
        "    else\n",
        "        prob[]=[prob[:],wins/i];\n",
        "        push!(prob, wins/i);\n",
        "    end\n",
        "end\n",
        "\n",
        "plot(prob)"
      ]
    },
    {
      "cell_type": "markdown",
      "id": "ebb17e3b-1a0a-45af-bed5-a1b08311a3cb",
      "metadata": {},
      "source": [
        "### Problem 1.3 (2 point)\n",
        "\n",
        "Based on your plot from Problem 1.2, how many simulations were needed\n",
        "for the win probability estimate to converge? What did you notice from\n",
        "your plot about the estimates prior to convergence?"
      ]
    },
    {
      "cell_type": "markdown",
      "id": "cd02838a-ff78-410a-bd55-42fcd0738ab7",
      "metadata": {},
      "source": [
        "## Problem 2 (5 points)\n",
        "\n",
        "The Showcase is the final round of every episode of The Price is Right,\n",
        "matching the two big winners from the episode. Each contestant is shown\n",
        "a “showcase” of prizes, which are usually some combination of a trip, a\n",
        "motor vehicle, some furniture, and maybe some other stuff. They then\n",
        "each have to make a bid on the retail price of the showcase. The rules\n",
        "are:\n",
        "\n",
        "-   an overbid is an automatic loss;\n",
        "-   the contest who gets closest to the retail price wins their\n",
        "    showcase;\n",
        "-   if a contestant gets within \\$250 of the retail price and is closer\n",
        "    than their opponent, they win both showcases.\n",
        "\n",
        "Your goal is to find a wager which maximizes your expected winnings,\n",
        "which we may as well call utility, based on your assessment of the\n",
        "probability of your showcase retail price. We’ll assume that the\n",
        "distribution of all showcases offered by the show is given as truncated\n",
        "normal distribution, which means a normal distribution which has an\n",
        "upper and/or lower bound. `Distributions.jl` makes it easy to specify\n",
        "truncations on any distribution, not just normal distributions. For\n",
        "example, we’ll use this distribution for the showcase values:\n",
        "\n",
        "``` julia\n",
        "showcase_dist = truncated(Normal(31000, 4500), lower=5000, upper=42000)\n",
        "```\n",
        "\n",
        "    Truncated(Normal{Float64}(μ=31000.0, σ=4500.0); lower=5000.0, upper=42000.0)"
      ]
    },
    {
      "cell_type": "markdown",
      "id": "0d6b2bc7-488f-4f21-b3ed-d609fa11b98b",
      "metadata": {},
      "source": [
        "#### Problem 2.1 (3 points)\n",
        "\n",
        "Write a function `showcase()` which takes in a bid value and uses Monte\n",
        "Carlo simulation to compute the expected value of the winnings. Make the\n",
        "following assumptions about your expected winnings if you don’t overbid:\n",
        "\n",
        "-   If you win both showcases, the value is the double of the single\n",
        "    showcase value.\n",
        "-   If you did not win both showcases but bid under the showcase value,\n",
        "    the probability of being outbid increases linearly as the distance\n",
        "    between your bid and the value increases (in other words, if you bid\n",
        "    the exact value, you win with probability 1, and if you bid \\$0, you\n",
        "    win with probability 0).\n",
        "\n",
        "How did you decide how many samples to use within the function?"
      ]
    },
    {
      "cell_type": "markdown",
      "id": "2da77b59-845e-4579-9ed0-82f1f91c8edc",
      "metadata": {},
      "source": [
        "#### Problem 2.2 (2 points)\n",
        "\n",
        "Plot the expected winnings for bids ranging from \\$0 to \\$42,000. What\n",
        "do you notice?"
      ]
    },
    {
      "cell_type": "markdown",
      "id": "e680ea2d-d6ba-4a78-b829-e13d058fee3c",
      "metadata": {},
      "source": [
        "## References\n",
        "\n",
        "Put any consulted sources here, including classmates you worked with/who\n",
        "helped you."
      ]
    }
  ],
  "metadata": {
    "kernelspec": {
      "display_name": "Julia 1.9.2",
      "language": "julia",
      "name": "julia-1.9"
    },
    "language_info": {
      "file_extension": ".jl",
      "mimetype": "application/julia",
      "name": "julia",
      "version": "1.9.2"
    }
  },
  "nbformat": 4,
  "nbformat_minor": 5
}
