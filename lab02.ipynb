{
  "cells": [
    {
      "cell_type": "markdown",
      "metadata": {},
      "source": [
        "# BEE 4750 Lab 2: Uncertainty and Monte Carlo"
      ],
      "id": "697ae06d-c3e6-444d-a1a4-7044adc0a910"
    },
    {
      "cell_type": "markdown",
      "metadata": {},
      "source": [
        "**Name**:\n",
        "\n",
        "**ID**:"
      ],
      "id": "3935eb57-06c0-4c16-82cb-52c7bedcef22"
    },
    {
      "cell_type": "markdown",
      "metadata": {},
      "source": [
        "> **Due Date**\n",
        ">\n",
        "> Friday, 9/22/23, 9:00pm\n",
        "\n",
        "## Setup\n",
        "\n",
        "The following code should go at the top of most Julia scripts; it will\n",
        "load the local package environment and install any needed packages. You\n",
        "will see this often and shouldn’t need to touch it."
      ],
      "id": "8becfcfb-f9d0-4d2a-bb17-878bb3259e7a"
    },
    {
      "cell_type": "code",
      "execution_count": 1,
      "metadata": {},
      "outputs": [],
      "source": [
        "import Pkg\n",
        "Pkg.activate(\".\")\n",
        "Pkg.instantiate()"
      ],
      "id": "e9133a38"
    },
    {
      "cell_type": "code",
      "execution_count": 2,
      "metadata": {},
      "outputs": [],
      "source": [
        "using Random # random number generation\n",
        "using Distributions # probability distributions and interface\n",
        "using Statistics # basic statistical functions, including mean\n",
        "using Plots # plotting"
      ],
      "id": "25bb4ead"
    },
    {
      "cell_type": "markdown",
      "metadata": {},
      "source": [
        "## Introduction\n",
        "\n",
        "In this lab, you will use Monte Carlo analysis to estimate the expected\n",
        "winnings for a couple of different games of chance.\n",
        "\n",
        "Monte Carlo methods involve the simulation of random numbers from\n",
        "probability distributions. In an environmental context, we often\n",
        "propagate these random numbers through some more complicated model and\n",
        "then compute a resulting statistic which is relevant for assessing\n",
        "performance or risk, such as an average outcome or a particular\n",
        "quantile.\n",
        "\n",
        "Julia provides a common interface for probability distributions with the\n",
        "[`Distributions.jl`\n",
        "package](https://juliastats.org/Distributions.jl/stable/). The basic\n",
        "workflow for sampling from a distribution is:\n",
        "\n",
        "1.  Set up the distribution. The specific syntax depends on the\n",
        "    distribution and what parameters are required, but the general call\n",
        "    is the similar. For a normal distribution or a uniform distribution,\n",
        "    the syntax is\n",
        "\n",
        "    ``` julia\n",
        "    # you don't have to name this \"normal_distribution\"\n",
        "    # μ is the mean and σ is the standard deviation\n",
        "    normal_distribution = Normal(μ, σ)\n",
        "    # a is the upper bound and b is the lower bound; these can be set to +Inf or -Inf for an unbounded distribution in one or both directions.\n",
        "    uniform_distribution = Uniform(a, b)\n",
        "    ```\n",
        "\n",
        "    There are lots of both\n",
        "    [univariate](https://juliastats.org/Distributions.jl/stable/univariate/#Index)\n",
        "    and\n",
        "    [multivariate](https://juliastats.org/Distributions.jl/stable/multivariate/)\n",
        "    distributions, as well as the ability to create your own, but we\n",
        "    won’t do anything too exotic here.\n",
        "\n",
        "2.  Draw samples. This uses the `rand()` command (which, when used\n",
        "    without a distribution, just samples uniformly from the interval\n",
        "    $[0, 1]$.) For example, to sample from our normal distribution\n",
        "    above:\n",
        "\n",
        "    ``` julia\n",
        "    # draw n samples\n",
        "    rand(normal_distribution, n)\n",
        "    ```\n",
        "\n",
        "Putting this together, let’s say that we wanted to simulate 100\n",
        "six-sided dice rolls. We could use a [Discrete Uniform\n",
        "distribution](https://juliastats.org/Distributions.jl/stable/univariate/#Distributions.DiscreteUniform)."
      ],
      "id": "238bd298-a142-49cc-a28b-62f5f46829b7"
    },
    {
      "cell_type": "code",
      "execution_count": 3,
      "metadata": {},
      "outputs": [
        {
          "output_type": "display_data",
          "metadata": {},
          "data": {
            "text/plain": [
              "100-element Vector{Int64}:\n",
              " 3\n",
              " 4\n",
              " 5\n",
              " 3\n",
              " 4\n",
              " 5\n",
              " 2\n",
              " 6\n",
              " 6\n",
              " 6\n",
              " 3\n",
              " 2\n",
              " 5\n",
              " ⋮\n",
              " 1\n",
              " 1\n",
              " 4\n",
              " 2\n",
              " 6\n",
              " 2\n",
              " 4\n",
              " 3\n",
              " 4\n",
              " 5\n",
              " 4\n",
              " 4"
            ]
          }
        }
      ],
      "source": [
        "dice_dist = DiscreteUniform(1, 6) # can generate any integer between 1 and 6\n",
        "dice_rolls = rand(dice_dist, 100) # simulate rolls"
      ],
      "id": "901d96b9"
    },
    {
      "cell_type": "markdown",
      "metadata": {},
      "source": [
        "And then we can plot a histogram of these rolls:"
      ],
      "id": "56fbd54b-9f92-487d-8a14-c2e5d82c6e06"
    },
    {
      "cell_type": "code",
      "execution_count": 4,
      "metadata": {},
      "outputs": [
        {
          "output_type": "display_data",
          "metadata": {},
          "data": {
            "text/html": [
              "<img src=\"data:image/png;base64,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\" />"
            ]
          }
        }
      ],
      "source": [
        "histogram(dice_rolls, legend=:false, bins=6)\n",
        "ylabel!(\"Count\")\n",
        "xlabel!(\"Dice Value\")"
      ],
      "id": "8affc3fb"
    },
    {
      "cell_type": "markdown",
      "metadata": {},
      "source": [
        "**Remember to**:\n",
        "\n",
        "-   Evaluate all of your code cells, in order (using a `Run All`\n",
        "    command). This will make sure all output is visible and that the\n",
        "    code cells were evaluated in the correct order.\n",
        "-   Tag each of the problems when you submit to Gradescope; a 10%\n",
        "    penalty will be deducted if this is not done."
      ],
      "id": "e0a8e84d-2d0e-4678-b1ed-9e00de28fc4e"
    },
    {
      "cell_type": "markdown",
      "metadata": {},
      "source": [
        "## Exercises (10 points)\n",
        "\n",
        "In Problem 1, you will compute the probability of getting a specific\n",
        "combination of multiple dice rolls. The focus will be on understanding\n",
        "how the Monte Carlo estimate changes based on the number of simulations.\n",
        "\n",
        "In Problem 2, we will implement the culmination of every episode of the\n",
        "long-running game show [The Price Is\n",
        "Right](https://en.wikipedia.org/wiki/The_Price_Is_Right): the\n",
        "[Showcase](https://en.wikipedia.org/wiki/The_Price_Is_Right#Showcase).\n",
        "You will be asked to make a plot of expected winnings by bid for a\n",
        "particular distribution of prize values.\n",
        "\n",
        "You should always start any computing with random numbers by setting a\n",
        "“seed,” which controls the sequence of numbers which are generated\n",
        "(since these are not *really* random, just “pseudorandom”). In Julia, we\n",
        "do this with the `Random.seed!()` function.\n",
        "\n",
        "``` julia\n",
        "Random.seed!(1)\n",
        "```\n",
        "\n",
        "    TaskLocalRNG()\n",
        "\n",
        "It doesn’t matter what seed you set, though different seeds might result\n",
        "in slightly different values. But setting a seed means every time your\n",
        "notebook is run, the answer will be the same.\n",
        "\n",
        "> **Seeds and Reproducing Solutions**\n",
        ">\n",
        "> If you don’t re-run your code in the same order or if you re-run the\n",
        "> same cell repeatedly, you will not get the same solution. If you’re\n",
        "> working on a specific problem, you might want to re-use\n",
        "> `Random.seed()` near any block of code you want to re-evaluate\n",
        "> repeatedly."
      ],
      "id": "4bed93b3-cf4a-4e3e-9de0-1dffe185f5c7"
    },
    {
      "cell_type": "markdown",
      "metadata": {},
      "source": [
        "### Problem 1 (5 points)\n",
        "\n",
        "We want to know the probability of getting at least an 11 from rolling\n",
        "three fair, six-sided dice (this is actually an old Italian game called\n",
        "*passadieci*, which was analyzed by Galileo as one of the first examples\n",
        "of a rigorous study of probability)."
      ],
      "id": "ed0aa9bb-e819-463b-9a71-168ca0d9ebf6"
    },
    {
      "cell_type": "markdown",
      "metadata": {},
      "source": [
        "#### Problem 1.1 (1 point)\n",
        "\n",
        "Write a function called `passadieci()` to simulate this game, which will\n",
        "take as an input the number of realizations and output a vector of the\n",
        "sum of the three dice rolls for each realization."
      ],
      "id": "d1837d91-f295-489a-b8c6-22b8c5894b0a"
    },
    {
      "cell_type": "markdown",
      "metadata": {},
      "source": [
        "### Problem 1.2 (2 points)\n",
        "\n",
        "Generate 5,000 simulations of the game using your `passadieci()`\n",
        "function. Plot how the computed probability of winning the game changes\n",
        "as the number of simulations increases (you can do this by computing the\n",
        "frequency of wins for each additional simulation)."
      ],
      "id": "a0f8dc60-7424-42d4-a753-2dc290b21eaf"
    },
    {
      "cell_type": "markdown",
      "metadata": {},
      "source": [
        "### Problem 1.3 (2 point)\n",
        "\n",
        "Based on your plot from Problem 1.2, how many simulations were needed\n",
        "for the win probability estimate to converge? What did you notice from\n",
        "your plot about the estimates prior to convergence?"
      ],
      "id": "50f06c45-8fb3-4151-8f71-be2e5cd13b18"
    },
    {
      "cell_type": "markdown",
      "metadata": {},
      "source": [
        "## Problem 2 (5 points)\n",
        "\n",
        "The Showcase is the final round of every episode of The Price is Right,\n",
        "matching the two big winners from the episode. Each contestant is shown\n",
        "a “showcase” of prizes, which are usually some combination of a trip, a\n",
        "motor vehicle, some furniture, and maybe some other stuff. They then\n",
        "each have to make a bid on the retail price of the showcase. The rules\n",
        "are:\n",
        "\n",
        "-   an overbid is an automatic loss;\n",
        "-   the contest who gets closest to the retail price wins their\n",
        "    showcase;\n",
        "-   if a contestant gets within \\$250 of the retail price and is closer\n",
        "    than their opponent, they win both showcases.\n",
        "\n",
        "Your goal is to find a wager which maximizes your expected winnings,\n",
        "which we may as well call utility, based on your assessment of the\n",
        "probability of your showcase retail price. We’ll assume that the\n",
        "distribution of all showcases offered by the show is given as truncated\n",
        "normal distribution, which means a normal distribution which has an\n",
        "upper and/or lower bound. `Distributions.jl` makes it easy to specify\n",
        "truncations on any distribution, not just normal distributions. For\n",
        "example, we’ll use this distribution for the showcase values:\n",
        "\n",
        "``` julia\n",
        "showcase_dist = truncated(Normal(31000, 4500), lower=5000, upper=42000)\n",
        "```\n",
        "\n",
        "    Truncated(Normal{Float64}(μ=31000.0, σ=4500.0); lower=5000.0, upper=42000.0)"
      ],
      "id": "b503743a-9eb0-4e29-a776-d00bbec46410"
    },
    {
      "cell_type": "markdown",
      "metadata": {},
      "source": [
        "#### Problem 2.1 (3 points)\n",
        "\n",
        "Write a function `showcase()` which takes in a bid value and uses Monte\n",
        "Carlo simulation to compute the expected value of the winnings. Make the\n",
        "following assumptions about your expected winnings if you don’t overbid:\n",
        "\n",
        "-   If you win both showcases, the value is the double of the single\n",
        "    showcase value.\n",
        "-   If you did not win both showcases but bid under the showcase value,\n",
        "    the probability of being outbid increases linearly as the distance\n",
        "    between your bid and the value increases (in other words, if you bid\n",
        "    the exact value, you win with probability 1, and if you bid \\$0, you\n",
        "    win with probability 0).\n",
        "\n",
        "How did you decide how many samples to use within the function?"
      ],
      "id": "60f0458c-2368-4f45-aa0b-e5c905ee4937"
    },
    {
      "cell_type": "markdown",
      "metadata": {},
      "source": [
        "#### Problem 2.2 (2 points)\n",
        "\n",
        "Plot the expected winnings for bids ranging from \\$0 to \\$42,000. What\n",
        "do you notice?"
      ],
      "id": "a21579a6-82e9-45bb-b45d-d928e1178ab9"
    },
    {
      "cell_type": "markdown",
      "metadata": {},
      "source": [
        "## References\n",
        "\n",
        "Put any consulted sources here, including classmates you worked with/who\n",
        "helped you."
      ],
      "id": "18835558-65a8-4382-a9ce-9523e276601d"
    }
  ],
  "nbformat": 4,
  "nbformat_minor": 5,
  "metadata": {
    "kernelspec": {
      "name": "julia-1.9",
      "display_name": "Julia 1.9.3",
      "language": "julia"
    },
    "language_info": {
      "name": "julia",
      "file_extension": ".jl",
      "mimetype": "application/julia",
      "version": "1.9.3"
    }
  }
}