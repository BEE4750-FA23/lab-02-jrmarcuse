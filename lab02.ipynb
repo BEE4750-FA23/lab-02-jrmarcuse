{
  "cells": [
    {
      "cell_type": "markdown",
      "metadata": {},
      "source": [
        "# BEE 4750 Lab 2: Uncertainty and Monte Carlo"
      ],
      "id": "8c4c00d2-c3b1-416b-9315-f5df22aed463"
    },
    {
      "cell_type": "markdown",
      "metadata": {},
      "source": [
        "**Name**:\n",
        "\n",
        "**ID**:"
      ],
      "id": "76c91cbb-c644-4d17-b802-fbd22f9dfe22"
    },
    {
      "cell_type": "markdown",
      "metadata": {},
      "source": [
        "> **Due Date**\n",
        ">\n",
        "> Friday, 9/22/23, 9:00pm\n",
        "\n",
        "## Setup\n",
        "\n",
        "The following code should go at the top of most Julia scripts; it will\n",
        "load the local package environment and install any needed packages. You\n",
        "will see this often and shouldn’t need to touch it."
      ],
      "id": "48395670-8bac-459a-aa7e-1d5ddb111231"
    },
    {
      "cell_type": "code",
      "execution_count": 1,
      "metadata": {},
      "outputs": [],
      "source": [
        "import Pkg\n",
        "Pkg.activate(\".\")\n",
        "Pkg.instantiate()"
      ],
      "id": "5ea65324"
    },
    {
      "cell_type": "code",
      "execution_count": 2,
      "metadata": {},
      "outputs": [],
      "source": [
        "using Random # random number generation\n",
        "using Distributions # probability distributions and interface\n",
        "using Statistics # basic statistical functions, including mean\n",
        "using Plots # plotting"
      ],
      "id": "6a1a91b9"
    },
    {
      "cell_type": "markdown",
      "metadata": {},
      "source": [
        "## Introduction\n",
        "\n",
        "In this lab, you will use Monte Carlo analysis to estimate the expected\n",
        "winnings for a couple of different games of chance.\n",
        "\n",
        "Monte Carlo methods involve the simulation of random numbers from\n",
        "probability distributions. In an environmental context, we often\n",
        "propagate these random numbers through some more complicated model and\n",
        "then compute a resulting statistic which is relevant for assessing\n",
        "performance or risk, such as an average outcome or a particular\n",
        "quantile.\n",
        "\n",
        "Julia provides a common interface for probability distributions with the\n",
        "[`Distributions.jl`\n",
        "package](https://juliastats.org/Distributions.jl/stable/). The basic\n",
        "workflow for sampling from a distribution is:\n",
        "\n",
        "1.  Set up the distribution. The specific syntax depends on the\n",
        "    distribution and what parameters are required, but the general call\n",
        "    is the similar. For a normal distribution or a uniform distribution,\n",
        "    the syntax is\n",
        "\n",
        "    ``` julia\n",
        "    # you don't have to name this \"normal_distribution\"\n",
        "    # μ is the mean and σ is the standard deviation\n",
        "    normal_distribution = Normal(μ, σ)\n",
        "    # a is the upper bound and b is the lower bound; these can be set to +Inf or -Inf for an unbounded distribution in one or both directions.\n",
        "    uniform_distribution = Uniform(a, b)\n",
        "    ```\n",
        "\n",
        "    There are lots of both\n",
        "    [univariate](https://juliastats.org/Distributions.jl/stable/univariate/#Index)\n",
        "    and\n",
        "    [multivariate](https://juliastats.org/Distributions.jl/stable/multivariate/)\n",
        "    distributions, as well as the ability to create your own, but we\n",
        "    won’t do anything too exotic here.\n",
        "\n",
        "2.  Draw samples. This uses the `rand()` command (which, when used\n",
        "    without a distribution, just samples uniformly from the interval\n",
        "    $[0, 1]$.) For example, to sample from our normal distribution\n",
        "    above:\n",
        "\n",
        "    ``` julia\n",
        "    # draw n samples\n",
        "    rand(normal_distribution, n)\n",
        "    ```\n",
        "\n",
        "Putting this together, let’s say that we wanted to simulate 100\n",
        "six-sided dice rolls. We could use a [Discrete Uniform\n",
        "distribution](https://juliastats.org/Distributions.jl/stable/univariate/#Distributions.DiscreteUniform)."
      ],
      "id": "c7915844-c5d8-412e-987c-3d0b9888bcd6"
    },
    {
      "cell_type": "code",
      "execution_count": 3,
      "metadata": {},
      "outputs": [
        {
          "output_type": "display_data",
          "metadata": {},
          "data": {
            "text/plain": [
              "100-element Vector{Int64}:\n",
              " 1\n",
              " 5\n",
              " 4\n",
              " 6\n",
              " 2\n",
              " 4\n",
              " 3\n",
              " 4\n",
              " 1\n",
              " 2\n",
              " 3\n",
              " 3\n",
              " 6\n",
              " ⋮\n",
              " 3\n",
              " 3\n",
              " 6\n",
              " 1\n",
              " 3\n",
              " 1\n",
              " 1\n",
              " 5\n",
              " 4\n",
              " 3\n",
              " 1\n",
              " 2"
            ]
          }
        }
      ],
      "source": [
        "dice_dist = DiscreteUniform(1, 6) # can generate any integer between 1 and 6\n",
        "dice_rolls = rand(dice_dist, 100) # simulate rolls"
      ],
      "id": "99bc6cff"
    },
    {
      "cell_type": "markdown",
      "metadata": {},
      "source": [
        "And then we can plot a histogram of these rolls:"
      ],
      "id": "915f5047-bbf7-4050-9983-3b9d908e8378"
    },
    {
      "cell_type": "code",
      "execution_count": 4,
      "metadata": {},
      "outputs": [
        {
          "output_type": "display_data",
          "metadata": {},
          "data": {
            "text/html": [
              "<img src=\"data:image/png;base64,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\" />"
            ]
          }
        }
      ],
      "source": [
        "histogram(dice_rolls, legend=:false, bins=6)\n",
        "ylabel!(\"Count\")\n",
        "xlabel!(\"Dice Value\")"
      ],
      "id": "9ae4fa70"
    },
    {
      "cell_type": "markdown",
      "metadata": {},
      "source": [
        "**Remember to**:\n",
        "\n",
        "-   Evaluate all of your code cells, in order (using a `Run All`\n",
        "    command). This will make sure all output is visible and that the\n",
        "    code cells were evaluated in the correct order.\n",
        "-   Tag each of the problems when you submit to Gradescope; a 10%\n",
        "    penalty will be deducted if this is not done."
      ],
      "id": "e08d0fc5-86c6-40c9-b13d-21cc8f62d518"
    },
    {
      "cell_type": "markdown",
      "metadata": {},
      "source": [
        "## Exercises (10 points)\n",
        "\n",
        "In Problem 1, you will compute the probability of getting a specific\n",
        "combination of multiple dice rolls. The focus will be on understanding\n",
        "how the Monte Carlo estimate changes based on the number of simulations.\n",
        "\n",
        "In Problem 2, we will implement the culmination of every episode of the\n",
        "long-running game show [The Price Is\n",
        "Right](https://en.wikipedia.org/wiki/The_Price_Is_Right): the\n",
        "[Showcase](https://en.wikipedia.org/wiki/The_Price_Is_Right#Showcase).\n",
        "You will be asked to make a plot of expected winnings by bid for a\n",
        "particular distribution of prize values.\n",
        "\n",
        "You should always start any computing with random numbers by setting a\n",
        "“seed,” which controls the sequence of numbers which are generated\n",
        "(since these are not *really* random, just “pseudorandom”). In Julia, we\n",
        "do this with the `Random.seed!()` function.\n",
        "\n",
        "``` julia\n",
        "Random.seed!(1)\n",
        "```\n",
        "\n",
        "    TaskLocalRNG()\n",
        "\n",
        "It doesn’t matter what seed you set, though different seeds might result\n",
        "in slightly different values. But setting a seed means every time your\n",
        "notebook is run, the answer will be the same.\n",
        "\n",
        "> **Seeds and Reproducing Solutions**\n",
        ">\n",
        "> If you don’t re-run your code in the same order or if you re-run the\n",
        "> same cell repeatedly, you will not get the same solution. If you’re\n",
        "> working on a specific problem, you might want to re-use\n",
        "> `Random.seed()` near any block of code you want to re-evaluate\n",
        "> repeatedly."
      ],
      "id": "1172f51f-4d43-4e72-8052-438cd5026290"
    },
    {
      "cell_type": "markdown",
      "metadata": {},
      "source": [
        "### Problem 1 (5 points)\n",
        "\n",
        "We want to know the probability of getting at least an 11 from rolling\n",
        "three fair, six-sided dice (this is actually an old Italian game called\n",
        "*passadieci*, which was analyzed by Galileo as one of the first examples\n",
        "of a rigorous study of probability)."
      ],
      "id": "0d66eba2-0f7c-438c-8b81-ed17996eb03c"
    },
    {
      "cell_type": "markdown",
      "metadata": {},
      "source": [
        "#### Problem 1.1 (1 point)\n",
        "\n",
        "Write a function called `passadieci()` to simulate this game, which will\n",
        "take as an input the number of realizations and output a vector of the\n",
        "sum of the three dice rolls for each realization."
      ],
      "id": "3a5779bc-bb3e-46b1-a503-e5257f531358"
    },
    {
      "cell_type": "markdown",
      "metadata": {},
      "source": [
        "### Problem 1.2 (2 points)\n",
        "\n",
        "Generate 5,000 simulations of the game using your `passadieci()`\n",
        "function. Plot how the computed probability of winning the game changes\n",
        "as the number of simulations increases (you can do this by computing the\n",
        "frequency of wins for each additional simulation)."
      ],
      "id": "58e0845a-ff3e-49c1-a349-10218c5ded53"
    },
    {
      "cell_type": "markdown",
      "metadata": {},
      "source": [
        "### Problem 1.3 (2 point)\n",
        "\n",
        "Based on your plot from Problem 1.2, how many simulations were needed\n",
        "for the win probability estimate to converge? What did you notice from\n",
        "your plot about the estimates prior to convergence?"
      ],
      "id": "755b9492-b3c8-41b9-a1d2-fb1602250932"
    },
    {
      "cell_type": "markdown",
      "metadata": {},
      "source": [
        "## Problem 2 (5 points)\n",
        "\n",
        "The Showcase is the final round of every episode of The Price is Right,\n",
        "matching the two big winners from the episode. Each contestant is shown\n",
        "a “showcase” of prizes, which are usually some combination of a trip, a\n",
        "motor vehicle, some furniture, and maybe some other stuff. They then\n",
        "each have to make a bid on the retail price of the showcase. The rules\n",
        "are:\n",
        "\n",
        "-   an overbid is an automatic loss;\n",
        "-   the contest who gets closest to the retail price wins their\n",
        "    showcase;\n",
        "-   if a contestant gets within \\$250 of the retail price and is closer\n",
        "    than their opponent, they win both showcases.\n",
        "\n",
        "Your goal is to find a wager which maximizes your expected winnings,\n",
        "which we may as well call utility, based on your assessment of the\n",
        "probability of your showcase retail price. We’ll assume that the\n",
        "distribution of all showcases offered by the show is given as truncated\n",
        "normal distribution, which means a normal distribution which has an\n",
        "upper and/or lower bound. `Distributions.jl` makes it easy to specify\n",
        "truncations on any distribution, not just normal distributions. For\n",
        "example, we’ll use this distribution for the showcase values:\n",
        "\n",
        "``` julia\n",
        "showcase_dist = truncated(Normal(31000, 4500), lower=5000, upper=42000)\n",
        "```\n",
        "\n",
        "    Truncated(Normal{Float64}(μ=31000.0, σ=4500.0); lower=5000.0, upper=42000.0)"
      ],
      "id": "75a6f06d-63bb-4fd8-af6f-aa8598630178"
    },
    {
      "cell_type": "markdown",
      "metadata": {},
      "source": [
        "#### Problem 2.1 (3 points)\n",
        "\n",
        "Write a function `showcase()` which takes in a bid value and uses Monte\n",
        "Carlo simulation to compute the expected value of the winnings. Make the\n",
        "following assumptions about your expected winnings if you don’t overbid:\n",
        "\n",
        "-   If you win both showcases, the value is the double of the single\n",
        "    showcase value.\n",
        "-   If you did not win both showcases but bid under the showcase value,\n",
        "    the probability of being outbid increases linearly as the distance\n",
        "    between your bid and the value increases (in other words, if you bid\n",
        "    the exact value, you win with probability 1, and if you bid \\$0, you\n",
        "    win with probability 0).\n",
        "\n",
        "How did you decide how many samples to use within the function?"
      ],
      "id": "96f22043-8cfc-4d6f-a9ca-88773f262844"
    },
    {
      "cell_type": "markdown",
      "metadata": {},
      "source": [
        "#### Problem 2.2 (2 points)\n",
        "\n",
        "Plot the expected winnings for bids ranging from \\$0 to \\$42,000. What\n",
        "do you notice?"
      ],
      "id": "3434bbc9-ea19-424b-87c5-a447f8a510d7"
    },
    {
      "cell_type": "markdown",
      "metadata": {},
      "source": [
        "## References\n",
        "\n",
        "Put any consulted sources here, including classmates you worked with/who\n",
        "helped you."
      ],
      "id": "a69df8c0-0e64-40be-9da8-2e26215199ce"
    }
  ],
  "nbformat": 4,
  "nbformat_minor": 5,
  "metadata": {
    "kernelspec": {
      "name": "julia-1.9",
      "display_name": "Julia 1.9.3",
      "language": "julia"
    },
    "language_info": {
      "name": "julia",
      "file_extension": ".jl",
      "mimetype": "application/julia",
      "version": "1.9.3"
    }
  }
}